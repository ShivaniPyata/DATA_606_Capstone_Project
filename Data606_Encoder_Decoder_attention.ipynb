{
  "nbformat": 4,
  "nbformat_minor": 0,
  "metadata": {
    "colab": {
      "name": "Copy of Data606_Encoder-Decoder_attention.ipynb",
      "provenance": [],
      "collapsed_sections": [],
      "authorship_tag": "ABX9TyOTwP4QD5EgF3ru3GjTXFaW"
    },
    "kernelspec": {
      "name": "python3",
      "display_name": "Python 3"
    },
    "language_info": {
      "name": "python"
    },
    "accelerator": "GPU"
  },
  "cells": [
    {
      "cell_type": "markdown",
      "metadata": {
        "id": "nxdJk93q3OQL"
      },
      "source": [
        "#**<center>Natural Language Text to SQL Query Conversion**\n",
        "##**<center>GRU based Encoder-Decoder model**"
      ]
    },
    {
      "cell_type": "markdown",
      "metadata": {
        "id": "JxjRpT-l_ERw"
      },
      "source": [
        "###**Importing necessary libraries**"
      ]
    },
    {
      "cell_type": "code",
      "metadata": {
        "colab": {
          "base_uri": "https://localhost:8080/"
        },
        "id": "JsCTwwBebsBt",
        "outputId": "c22f3c7a-ab6e-4fab-ce4f-2cef4ca2512f"
      },
      "source": [
        "import nltk\n",
        "nltk.download('punkt')"
      ],
      "execution_count": null,
      "outputs": [
        {
          "output_type": "stream",
          "text": [
            "[nltk_data] Downloading package punkt to /root/nltk_data...\n",
            "[nltk_data]   Package punkt is already up-to-date!\n"
          ],
          "name": "stdout"
        },
        {
          "output_type": "execute_result",
          "data": {
            "text/plain": [
              "True"
            ]
          },
          "metadata": {
            "tags": []
          },
          "execution_count": 1
        }
      ]
    },
    {
      "cell_type": "code",
      "metadata": {
        "colab": {
          "base_uri": "https://localhost:8080/"
        },
        "id": "3REbOtKc3VHz",
        "outputId": "30c59e06-0eb1-41e3-cebb-5e7259d46951"
      },
      "source": [
        "pip install records"
      ],
      "execution_count": null,
      "outputs": [
        {
          "output_type": "stream",
          "text": [
            "Requirement already satisfied: records in /usr/local/lib/python3.7/dist-packages (0.5.3)\n",
            "Requirement already satisfied: openpyxl<2.5.0 in /usr/local/lib/python3.7/dist-packages (from records) (2.4.11)\n",
            "Requirement already satisfied: SQLAlchemy; python_version >= \"3.0\" in /usr/local/lib/python3.7/dist-packages (from records) (1.4.7)\n",
            "Requirement already satisfied: tablib>=0.11.4 in /usr/local/lib/python3.7/dist-packages (from records) (3.0.0)\n",
            "Requirement already satisfied: docopt in /usr/local/lib/python3.7/dist-packages (from records) (0.6.2)\n",
            "Requirement already satisfied: et-xmlfile in /usr/local/lib/python3.7/dist-packages (from openpyxl<2.5.0->records) (1.0.1)\n",
            "Requirement already satisfied: jdcal in /usr/local/lib/python3.7/dist-packages (from openpyxl<2.5.0->records) (1.4.1)\n",
            "Requirement already satisfied: importlib-metadata; python_version < \"3.8\" in /usr/local/lib/python3.7/dist-packages (from SQLAlchemy; python_version >= \"3.0\"->records) (3.10.1)\n",
            "Requirement already satisfied: greenlet!=0.4.17; python_version >= \"3\" in /usr/local/lib/python3.7/dist-packages (from SQLAlchemy; python_version >= \"3.0\"->records) (1.0.0)\n",
            "Requirement already satisfied: zipp>=0.5 in /usr/local/lib/python3.7/dist-packages (from importlib-metadata; python_version < \"3.8\"->SQLAlchemy; python_version >= \"3.0\"->records) (3.4.1)\n",
            "Requirement already satisfied: typing-extensions>=3.6.4; python_version < \"3.8\" in /usr/local/lib/python3.7/dist-packages (from importlib-metadata; python_version < \"3.8\"->SQLAlchemy; python_version >= \"3.0\"->records) (3.7.4.3)\n"
          ],
          "name": "stdout"
        }
      ]
    },
    {
      "cell_type": "code",
      "metadata": {
        "id": "SeVZdo0s3XPj",
        "colab": {
          "base_uri": "https://localhost:8080/"
        },
        "outputId": "7d028fab-567f-4da2-a292-2f9ed3e6b0cc"
      },
      "source": [
        "from tqdm.autonotebook import tqdm\n",
        "\n",
        "import numpy as np\n",
        "import pandas as pd\n",
        "import records\n",
        "import seaborn as sns\n",
        "import matplotlib\n",
        "import matplotlib.pyplot as plt\n",
        "import matplotlib.ticker as ticker\n",
        "import json\n",
        "import time\n",
        "import unicodedata\n",
        "\n",
        "from __future__ import unicode_literals, print_function, division\n",
        "\n",
        "from collections import defaultdict\n",
        "from io import open\n",
        "from __future__ import unicode_literals, print_function, division\n",
        "\n",
        "\n",
        "import warnings\n",
        "warnings.filterwarnings(\"ignore\", category=FutureWarning)\n",
        "warnings.filterwarnings(\"ignore\", category=ImportWarning)"
      ],
      "execution_count": null,
      "outputs": [
        {
          "output_type": "stream",
          "text": [
            "/usr/local/lib/python3.7/dist-packages/ipykernel_launcher.py:1: TqdmExperimentalWarning: Using `tqdm.autonotebook.tqdm` in notebook mode. Use `tqdm.tqdm` instead to force console mode (e.g. in jupyter console)\n",
            "  \"\"\"Entry point for launching an IPython kernel.\n"
          ],
          "name": "stderr"
        }
      ]
    },
    {
      "cell_type": "code",
      "metadata": {
        "colab": {
          "base_uri": "https://localhost:8080/"
        },
        "id": "6PwAD6WS3aFA",
        "outputId": "95e82276-9445-4c8e-b154-e344827d8a6b"
      },
      "source": [
        "import torch\n",
        "import torch.nn as nn\n",
        "import torch.nn.functional as F\n",
        "from torch.utils.data import * \n",
        "from torch.autograd import Variable\n",
        "from torch import optim\n",
        "\n",
        "from google.colab import drive\n",
        "drive.mount('/content/drive/')"
      ],
      "execution_count": null,
      "outputs": [
        {
          "output_type": "stream",
          "text": [
            "Drive already mounted at /content/drive/; to attempt to forcibly remount, call drive.mount(\"/content/drive/\", force_remount=True).\n"
          ],
          "name": "stdout"
        }
      ]
    },
    {
      "cell_type": "code",
      "metadata": {
        "id": "rDU6X2K73cb4"
      },
      "source": [
        "import os\n",
        "import sys\n",
        "sys.path.append('/content/drive/MyDrive/lib/')"
      ],
      "execution_count": null,
      "outputs": []
    },
    {
      "cell_type": "code",
      "metadata": {
        "id": "w-YsqTBi3izZ"
      },
      "source": [
        "from lib_db import *"
      ],
      "execution_count": null,
      "outputs": []
    },
    {
      "cell_type": "code",
      "metadata": {
        "id": "u1fLEM3N-AVV"
      },
      "source": [
        "\"\"\"\n",
        "Device\n",
        "\"\"\"\n",
        "device = torch.device(\"cuda\") if torch.cuda.is_available() else torch.device(\"cpu\")"
      ],
      "execution_count": null,
      "outputs": []
    },
    {
      "cell_type": "markdown",
      "metadata": {
        "id": "vQpxR1D24c8_"
      },
      "source": [
        "###**Preparing training data**"
      ]
    },
    {
      "cell_type": "code",
      "metadata": {
        "id": "0FsZ9W6i3l1e"
      },
      "source": [
        "SOS_token = 0\n",
        "EOS_token = 1\n",
        "\n",
        "class Language:\n",
        "    def __init__(self, name):\n",
        "        self.name = name\n",
        "        self.word2index = defaultdict(int)\n",
        "        self.word2count = defaultdict(int)\n",
        "        self.index2word = {0: \"SOS\", 1: \"EOS\"}\n",
        "        self.n_words = 2  # Count SOS and EOS\n",
        "\n",
        "    def addSentence(self, sentence):\n",
        "        for word in sentence:\n",
        "            self.addWord(word)\n",
        "\n",
        "    def addWord(self, word):\n",
        "        if word not in self.word2index:\n",
        "            self.word2index[word] = self.n_words\n",
        "            self.word2count[word] = 1\n",
        "            self.index2word[self.n_words] = word\n",
        "            self.n_words += 1\n",
        "        else:\n",
        "            self.word2count[word] += 1\n",
        "\n",
        "\n"
      ],
      "execution_count": null,
      "outputs": []
    },
    {
      "cell_type": "code",
      "metadata": {
        "id": "-GYXJfKQW9ff"
      },
      "source": [
        "\"\"\"\n",
        "To Load the train data from file into the memory  \n",
        "\"\"\"\n",
        "def readLangs(lang1, lang2):\n",
        "    print(\"Reading lines...\")\n",
        "\n",
        "    lines = pd.read_json(\"/content/drive/MyDrive/Data606_finalproject/output/tokenized_train.jsonl\", lines=True)\n",
        "\n",
        "    # Split every line into pairs\n",
        "    pairs= []\n",
        "    for idx, row in lines.iterrows():\n",
        "        tokens_en = row[\"tokenized_question\"]\n",
        "        tokens_sql = row[\"tokenized_query\"]\n",
        "        pairs.append([tokens_en, tokens_sql])\n",
        "\n",
        "    input_lang = Language(lang1)\n",
        "    output_lang = Language(lang2)\n",
        "\n",
        "    return input_lang, output_lang, pairs\n",
        "\n",
        "\"\"\"To complete the mapping of all string data to numeric data and filter language pairs\n",
        "               The parameters lang1, lang2 represent the name of the source language and target language \"\"\"\n",
        "\n",
        "def prepareData(lang1, lang2):\n",
        "    input_lang, output_lang, pairs = readLangs(lang1, lang2)\n",
        "    print(\"Read %s sentence pairs\" % len(pairs))\n",
        "    print(\"\\nCounting words...\")\n",
        "    for pair in pairs:\n",
        "        input_lang.addSentence(pair[0])\n",
        "        output_lang.addSentence(pair[1])\n",
        "    print(\"Number of words in\", input_lang.name, input_lang.n_words)\n",
        "    print(\"Number of words in\", output_lang.name, output_lang.n_words)\n",
        "    return input_lang, output_lang, pairs"
      ],
      "execution_count": null,
      "outputs": []
    },
    {
      "cell_type": "code",
      "metadata": {
        "colab": {
          "base_uri": "https://localhost:8080/"
        },
        "id": "iMSFlGLW6XL1",
        "outputId": "bc59d62b-8f66-46ce-8268-2b98d6435055"
      },
      "source": [
        "global input_lang\n",
        "global output_lang\n",
        "global pairs\n",
        "\n",
        "\n",
        "input_lang, output_lang, pairs= prepareData(\"en\", \"sql\")\n",
        "print(\"\\nRandom Question and query pair looks like:\\n\")\n",
        "print(random.choice(pairs))\n",
        "#output_lang.word2index"
      ],
      "execution_count": null,
      "outputs": [
        {
          "output_type": "stream",
          "text": [
            "Reading lines...\n",
            "Read 56355 sentence pairs\n",
            "\n",
            "Counting words...\n",
            "Number of words in en 39685\n",
            "Number of words in sql 38066\n",
            "\n",
            "Random Question and query pair looks like:\n",
            "\n",
            "[['what', 'is', 'win-loss', ',', 'when', 'win', '%', 'is', '.456', '?'], ['SELECT', 'win-loss', 'FROM', 'table_', 'WHERE', 'win', '%', 'EQL', '.456']]\n"
          ],
          "name": "stdout"
        }
      ]
    },
    {
      "cell_type": "code",
      "metadata": {
        "id": "2K8tcITaX_3Q"
      },
      "source": [
        "\"\"\"\n",
        "To convert language pairs into tensors to input the model\n",
        "\"\"\"\n",
        "def indexesFromSentence(lang, sentence):\n",
        "    return [lang.word2index[word] for word in sentence]\n",
        "\n",
        "def tensorFromSentence(lang, sentence):\n",
        "    indexes = indexesFromSentence(lang, sentence)\n",
        "    indexes.append(EOS_token)\n",
        "    return torch.tensor(indexes, dtype=torch.long, device=device).view(-1, 1)\n",
        "\n",
        "def tensorsFromPair(pair):\n",
        "    input_tensor = tensorFromSentence(input_lang, pair[0])\n",
        "    target_tensor = tensorFromSentence(output_lang, pair[1])\n",
        "    return (input_tensor, target_tensor)\n",
        "\n"
      ],
      "execution_count": null,
      "outputs": []
    },
    {
      "cell_type": "code",
      "metadata": {
        "id": "A5buBZ7IpcLa",
        "colab": {
          "base_uri": "https://localhost:8080/"
        },
        "outputId": "008f0f37-4220-43bf-be42-3810906c3d2f"
      },
      "source": [
        "pair = pairs[0]\n",
        "print(pair)\n",
        "training_pairs = tensorsFromPair(pair)\n",
        "print(\"\\nTensor for Question and query pair looks like:\\n\")\n",
        "training_pairs"
      ],
      "execution_count": null,
      "outputs": [
        {
          "output_type": "stream",
          "text": [
            "[['tell', 'me', 'what', 'the', 'notes', 'are', 'for', 'south', 'australia'], ['SELECT', 'notes', 'FROM', 'table_', 'WHERE', 'current', 'slogan', 'EQL', 'south', 'australia']]\n",
            "\n",
            "Tensor for Question and query pair looks like:\n",
            "\n"
          ],
          "name": "stdout"
        },
        {
          "output_type": "execute_result",
          "data": {
            "text/plain": [
              "(tensor([[ 2],\n",
              "         [ 3],\n",
              "         [ 4],\n",
              "         [ 5],\n",
              "         [ 6],\n",
              "         [ 7],\n",
              "         [ 8],\n",
              "         [ 9],\n",
              "         [10],\n",
              "         [ 1]], device='cuda:0'), tensor([[ 2],\n",
              "         [ 3],\n",
              "         [ 4],\n",
              "         [ 5],\n",
              "         [ 6],\n",
              "         [ 7],\n",
              "         [ 8],\n",
              "         [ 9],\n",
              "         [10],\n",
              "         [11],\n",
              "         [ 1]], device='cuda:0'))"
            ]
          },
          "metadata": {
            "tags": []
          },
          "execution_count": 12
        }
      ]
    },
    {
      "cell_type": "code",
      "metadata": {
        "id": "kxNkBGhVWhx8"
      },
      "source": [
        "\"\"\"\n",
        "To prepare validation data\n",
        "\"\"\"\n",
        "def readLangs_val(lang1, lang2):\n",
        "    print(\"Reading lines...\")\n",
        "\n",
        "    lines = pd.read_json(\"/content/drive/MyDrive/Data606_finalproject/output/tokenized_test.jsonl\", lines=True)\n",
        "\n",
        "    # Split every line into pairs and normalize\n",
        "    pairs = []\n",
        "    for idx, row in lines.iterrows():\n",
        "        tokens_en = row[\"tokenized_question\"]\n",
        "        tokens_sql = row[\"tokenized_query\"]\n",
        "        pairs.append([tokens_en, tokens_sql])\n",
        "\n",
        "    input_lang = Language(lang1)\n",
        "    output_lang = Language(lang2)\n",
        "\n",
        "    return input_lang, output_lang, pairs\n",
        "\n",
        "\n",
        "def prepareValData(lang1, lang2):\n",
        "    input_lang, output_lang, pairs = readLangs_val(lang1, lang2)\n",
        "    print(\"Read %s sentence pairs\" % len(pairs))\n",
        "    print(\"Trimmed to %s sentence pairs\" % len(pairs))\n",
        "    print(\"Counting words...\")\n",
        "    for pair in pairs:\n",
        "        input_lang.addSentence(pair[0])\n",
        "        output_lang.addSentence(pair[1])\n",
        "    print(\"Counted words:\")\n",
        "    print(input_lang.name, input_lang.n_words)\n",
        "    print(output_lang.name, output_lang.n_words)\n",
        "    return input_lang, output_lang, pairs\n",
        "\n"
      ],
      "execution_count": null,
      "outputs": []
    },
    {
      "cell_type": "code",
      "metadata": {
        "colab": {
          "base_uri": "https://localhost:8080/"
        },
        "id": "nrlhQBvzgAYC",
        "outputId": "cc38c975-b528-4573-c02b-fcf1306a19f7"
      },
      "source": [
        "global pairs_test\n",
        "\n",
        "input_lang, output_lang, pairs_test= prepareValData(\"en\", \"sql\")\n",
        "print(\"\\nRandom Question and query pair looks like:\\n\")\n",
        "print(random.choice(pairs_test))"
      ],
      "execution_count": null,
      "outputs": [
        {
          "output_type": "stream",
          "text": [
            "Reading lines...\n",
            "Read 15878 sentence pairs\n",
            "Trimmed to 15878 sentence pairs\n",
            "Counting words...\n",
            "Counted words:\n",
            "en 16358\n",
            "sql 15618\n",
            "\n",
            "Random Question and query pair looks like:\n",
            "\n",
            "[['who', 'directed', 'the', 'episode', 'that', 'aired', 'on', 'july15,2012', '?'], ['SELECT', 'directed', 'by', 'FROM', 'table_', 'WHERE', 'original', 'air', 'date', 'EQL', 'july15,2012']]\n"
          ],
          "name": "stdout"
        }
      ]
    },
    {
      "cell_type": "markdown",
      "metadata": {
        "id": "Sg9XFtuyBH-C"
      },
      "source": [
        "###**Building GRU-based encoder and decoder model**"
      ]
    },
    {
      "cell_type": "markdown",
      "metadata": {
        "id": "n9-GzzUt_4W8"
      },
      "source": [
        "###**Encoder**"
      ]
    },
    {
      "cell_type": "code",
      "metadata": {
        "id": "dkzdXTwk_0uR"
      },
      "source": [
        "\"\"\"\n",
        "RNN Encoder\n",
        "\"\"\"\n",
        "class RNN_Encoder(nn.Module):\n",
        "    def __init__(self, input_size, hidden_size,dropout):\n",
        "        super(RNN_Encoder, self).__init__()\n",
        "        self.hidden_size = hidden_size\n",
        "\n",
        "        self.embedding = nn.Embedding(input_size, hidden_size)\n",
        "        self.gru = nn.GRU(hidden_size, hidden_size)\n",
        "        self.dropout = nn.Dropout(dropout)\n",
        "\n",
        "    def forward(self, input, hidden):\n",
        "        embedded = self.embedding(input).view(1, 1, -1)\n",
        "        output = embedded\n",
        "        output, hidden = self.gru(output, hidden)\n",
        "        return output, hidden\n",
        "\n",
        "    def initHidden(self):\n",
        "        return torch.zeros(1, 1, self.hidden_size, device=device)"
      ],
      "execution_count": null,
      "outputs": []
    },
    {
      "cell_type": "markdown",
      "metadata": {
        "id": "KcTLxtc4BWng"
      },
      "source": [
        "###**Decoder**"
      ]
    },
    {
      "cell_type": "code",
      "metadata": {
        "id": "RoWoXR99rIZI"
      },
      "source": [
        "\"\"\"\n",
        "Decoder\n",
        "\"\"\"\n",
        "class RNN_Decoder(nn.Module):\n",
        "    def __init__(self, hidden_size, output_size):\n",
        "        super(RNN_Decoder, self).__init__()\n",
        "        self.hidden_size = hidden_size\n",
        "\n",
        "        self.embedding = nn.Embedding(output_size, hidden_size)\n",
        "        self.gru = nn.GRU(hidden_size, hidden_size)\n",
        "        self.out = nn.Linear(hidden_size, output_size)\n",
        "        self.softmax = nn.LogSoftmax(dim=1)\n",
        "\n",
        "    def forward(self, input, hidden):\n",
        "        output = self.embedding(input).view(1, 1, -1)\n",
        "        output = F.relu(output)\n",
        "        output, hidden = self.gru(output, hidden)\n",
        "        output = self.softmax(self.out(output[0]))\n",
        "        return output, hidden\n",
        "\n",
        "    def initHidden(self):\n",
        "        return torch.zeros(1, 1, self.hidden_size, device=device)"
      ],
      "execution_count": null,
      "outputs": []
    },
    {
      "cell_type": "markdown",
      "metadata": {
        "id": "3QYMrxJPImoo"
      },
      "source": [
        "###**Attention Decoder**"
      ]
    },
    {
      "cell_type": "code",
      "metadata": {
        "id": "p48-AWuo_Fsi"
      },
      "source": [
        "MAX_LENGTH = 50\n",
        "\"\"\"\n",
        "Attention Decoder\n",
        "\"\"\"\n",
        "\n",
        "class RNN_AttnDecoder(nn.Module):\n",
        "    def __init__(self, hidden_size, output_size, dropout_p, max_length=MAX_LENGTH):\n",
        "        super(RNN_AttnDecoder, self).__init__()\n",
        "        self.hidden_size = hidden_size\n",
        "        self.output_size = output_size\n",
        "        self.dropout_p = dropout_p\n",
        "        self.max_length = max_length\n",
        "\n",
        "        self.embedding = nn.Embedding(self.output_size, self.hidden_size)\n",
        "        self.attn = nn.Linear(self.hidden_size * 2, self.max_length)\n",
        "        self.attn_combine = nn.Linear(self.hidden_size * 2, self.hidden_size)\n",
        "        self.dropout = nn.Dropout(self.dropout_p)\n",
        "        self.gru = nn.GRU(self.hidden_size, self.hidden_size)\n",
        "        self.out = nn.Linear(self.hidden_size, self.output_size)\n",
        "\n",
        "    def forward(self, input, hidden, encoder_outputs):\n",
        "        embedded = self.embedding(input).view(1, 1, -1)\n",
        "        embedded = self.dropout(embedded)\n",
        "\n",
        "        attn_weights = F.softmax(self.attn(torch.cat((embedded[0], hidden[0]), 1)), dim=1)\n",
        "        attn_applied = torch.bmm(attn_weights.unsqueeze(0),encoder_outputs.unsqueeze(0))\n",
        "\n",
        "        output = torch.cat((embedded[0], attn_applied[0]), 1)\n",
        "        output = self.attn_combine(output).unsqueeze(0)\n",
        "\n",
        "        output = F.relu(output)\n",
        "        output, hidden = self.gru(output, hidden)\n",
        "\n",
        "        output = F.log_softmax(self.out(output[0]), dim=1)\n",
        "        return output, hidden, attn_weights\n",
        "\n",
        "    def initHidden(self):\n",
        "        return torch.zeros(1, 1, self.hidden_size, device=device)"
      ],
      "execution_count": null,
      "outputs": []
    },
    {
      "cell_type": "markdown",
      "metadata": {
        "id": "vcAcOZuRBgI0"
      },
      "source": [
        "###**Training function**"
      ]
    },
    {
      "cell_type": "code",
      "metadata": {
        "id": "Jlj9Nj4QI3-o"
      },
      "source": [
        "teacher_forcing_ratio = 0.5\n",
        "def train(input_tensor, target_tensor, encoder, decoder, encoder_optimizer, decoder_optimizer,\n",
        "          criterion, max_length=MAX_LENGTH):\n",
        "    encoder_hidden = encoder.initHidden()\n",
        "    encoder_optimizer.zero_grad()\n",
        "    decoder_optimizer.zero_grad()\n",
        "\n",
        "    input_length = input_tensor.size(0)\n",
        "    target_length = target_tensor.size(0)\n",
        "\n",
        "    encoder_outputs = torch.zeros(max_length, encoder.hidden_size, device=device)\n",
        "\n",
        "    loss = 0\n",
        "\n",
        "    for ei in range(input_length): \n",
        "        encoder_output, encoder_hidden = encoder(input_tensor[ei], encoder_hidden)\n",
        "\n",
        "        encoder_outputs[ei] = encoder_output[0, 0]\n",
        "\n",
        "    decoder_input = torch.tensor([[SOS_token]], device=device)\n",
        "\n",
        "    decoder_hidden = encoder_hidden\n",
        "\n",
        "    use_teacher_forcing = True if random.random() < teacher_forcing_ratio else False\n",
        "\n",
        "    if use_teacher_forcing:\n",
        "        # Teacher forcing: Feed the target as the next input\n",
        "        for di in range(target_length):\n",
        "            decoder_output, decoder_hidden, decoder_attention = decoder(\n",
        "                decoder_input, decoder_hidden, encoder_outputs)\n",
        "            loss += criterion(decoder_output, target_tensor[di])\n",
        "            decoder_input = target_tensor[di]  # Teacher forcing\n",
        "\n",
        "    else:\n",
        "        # Without teacher forcing: use its own predictions as the next input\n",
        "        for di in range(target_length):\n",
        "            decoder_output, decoder_hidden, decoder_attention = decoder(\n",
        "                decoder_input, decoder_hidden, encoder_outputs)\n",
        "            topv, topi = decoder_output.topk(1)\n",
        "            decoder_input = topi.squeeze().detach()  # detach from history as input\n",
        "\n",
        "            loss += criterion(decoder_output, target_tensor[di])\n",
        "            if decoder_input.item() == EOS_token:\n",
        "                break\n",
        "\n",
        "    loss.backward()\n",
        "\n",
        "    encoder_optimizer.step()\n",
        "    decoder_optimizer.step()\n",
        "\n",
        "    return loss.item() / target_length"
      ],
      "execution_count": null,
      "outputs": []
    },
    {
      "cell_type": "markdown",
      "metadata": {
        "id": "fTHJCln5BpQI"
      },
      "source": [
        "###**Time Calculation**"
      ]
    },
    {
      "cell_type": "code",
      "metadata": {
        "id": "sb6APnew-FrE"
      },
      "source": [
        "import time\n",
        "import math\n",
        "\n",
        "\n",
        "def asMinutes(s):\n",
        "    m = math.floor(s / 60)\n",
        "    s -= m * 60\n",
        "    return '%dm %ds' % (m, s)\n",
        "\n",
        "\n",
        "def timeSince(since, percent):\n",
        "    now = time.time()\n",
        "    s = now - since\n",
        "    es = s / (percent)\n",
        "    rs = es - s\n",
        "    return '%s (- %s)' % (asMinutes(s), asMinutes(rs))"
      ],
      "execution_count": null,
      "outputs": []
    },
    {
      "cell_type": "markdown",
      "metadata": {
        "id": "Xi3QuP7lCDmN"
      },
      "source": [
        "###**Function to plot graphs**"
      ]
    },
    {
      "cell_type": "code",
      "metadata": {
        "id": "s5crM3Ec-Lgt"
      },
      "source": [
        "def showPlot(points, plot_name):\n",
        "    plt.figure()\n",
        "    fig, ax = plt.subplots()\n",
        "    # this locator puts ticks at regular intervals\n",
        "    loc = ticker.MultipleLocator(base=0.2)\n",
        "    ax.yaxis.set_major_locator(loc)\n",
        "    plt.plot(points)\n",
        "    plt.savefig(plot_name + \".png\")\n",
        "\n",
        "\n",
        "def plot_data(x, y, xlabel = \"x\", ylabel = \"y\", label = 'plot'):\n",
        "\tplt.figure()\n",
        "\tplt.plot(x, y)\n",
        "\tplt.xlabel(\"Epochs\")\n",
        "\tplt.ylabel(\"Loss\")\n",
        "\tprint(\"Generating plot for \", label)\n",
        "\tplt.savefig(\"./\" + label + \".png\")"
      ],
      "execution_count": null,
      "outputs": []
    },
    {
      "cell_type": "markdown",
      "metadata": {
        "id": "8H3FM37YBu_O"
      },
      "source": [
        "###**To call training function and print graphs and logs**"
      ]
    },
    {
      "cell_type": "code",
      "metadata": {
        "id": "6RGIaFv--Io3"
      },
      "source": [
        "def trainIters(encoder, decoder, n_iters, print_every=1000, plot_every=100, learning_rate=1):\n",
        "    start = time.time()\n",
        "    plot_losses = []\n",
        "    print_loss_total = 0\n",
        "    plot_loss_total = 0\n",
        "\n",
        "    encoder_optimizer = optim.Adam(encoder.parameters(), lr=learning_rate)\n",
        "    decoder_optimizer = optim.Adam(decoder.parameters(), lr=learning_rate)\n",
        "    training_pairs = [tensorsFromPair(random.choice(pairs)) for i in range(n_iters)]\n",
        "    criterion = nn.CrossEntropyLoss()\n",
        "\n",
        "    for iter in range(1, n_iters + 1):\n",
        "        # training_pair = tensorsFromPair(random.choice(pairs))\n",
        "        training_pair = training_pairs[iter - 1]\n",
        "        input_tensor = training_pair[0]\n",
        "        target_tensor = training_pair[1]\n",
        "\n",
        "        loss = train(input_tensor, target_tensor, encoder,\n",
        "                     decoder, encoder_optimizer, decoder_optimizer, criterion)\n",
        "        print_loss_total += loss\n",
        "        plot_loss_total += loss\n",
        "\n",
        "        if iter % print_every == 0:\n",
        "            print_loss_avg = print_loss_total / print_every\n",
        "            print_loss_total = 0\n",
        "            print('%s (%d %d%%) %.4f' % (timeSince(start, iter / n_iters),\n",
        "                                      iter, iter / n_iters * 100, print_loss_avg))\n",
        "\n",
        "        if iter % plot_every == 0:\n",
        "            plot_loss_avg = plot_loss_total / plot_every\n",
        "            plot_losses.append(plot_loss_avg)\n",
        "            plot_loss_total = 0\n",
        "\n",
        "    showPlot(plot_losses, \"Baseline loss\")"
      ],
      "execution_count": null,
      "outputs": []
    },
    {
      "cell_type": "markdown",
      "metadata": {
        "id": "L1iWfeTbCPGp"
      },
      "source": [
        "###**Training the model**"
      ]
    },
    {
      "cell_type": "code",
      "metadata": {
        "colab": {
          "base_uri": "https://localhost:8080/",
          "height": 537
        },
        "id": "D56R6h_DDIBQ",
        "outputId": "0967e19a-5ad4-4abd-c3bc-350bc510caf0"
      },
      "source": [
        "dropout = 0.5\n",
        "dropout_p = 0.5\n",
        "hidden_size = 256\n",
        "\n",
        "\n",
        "encoder1 = RNN_Encoder(input_lang.n_words, hidden_size,dropout).to(device)\n",
        "\n",
        "attn_decoder1 = RNN_AttnDecoder(hidden_size, output_lang.n_words, dropout_p).to(device)\n",
        "\n",
        "trainIters(encoder1, attn_decoder1, n_iters = 15000, print_every=1000, plot_every=1000,learning_rate= 0.001)\n"
      ],
      "execution_count": null,
      "outputs": [
        {
          "output_type": "stream",
          "text": [
            "0m 31s (- 7m 15s) (1000 6%) 3.6885\n",
            "1m 1s (- 6m 39s) (2000 13%) 3.1792\n",
            "1m 32s (- 6m 8s) (3000 20%) 3.0379\n",
            "2m 2s (- 5m 36s) (4000 26%) 2.9508\n",
            "2m 33s (- 5m 7s) (5000 33%) 2.7966\n",
            "3m 4s (- 4m 36s) (6000 40%) 2.7779\n",
            "3m 35s (- 4m 6s) (7000 46%) 2.6418\n",
            "4m 6s (- 3m 35s) (8000 53%) 2.5140\n",
            "4m 36s (- 3m 4s) (9000 60%) 2.5354\n",
            "5m 7s (- 2m 33s) (10000 66%) 2.4404\n",
            "5m 37s (- 2m 2s) (11000 73%) 2.4100\n",
            "6m 8s (- 1m 32s) (12000 80%) 2.3467\n",
            "6m 39s (- 1m 1s) (13000 86%) 2.3515\n",
            "7m 10s (- 0m 30s) (14000 93%) 2.2535\n",
            "7m 41s (- 0m 0s) (15000 100%) 2.2615\n"
          ],
          "name": "stdout"
        },
        {
          "output_type": "display_data",
          "data": {
            "text/plain": [
              "<Figure size 432x288 with 0 Axes>"
            ]
          },
          "metadata": {
            "tags": []
          }
        },
        {
          "output_type": "display_data",
          "data": {
            "image/png": "[encoded data removed]",
            "text/plain": [
              "<Figure size 432x288 with 1 Axes>"
            ]
          },
          "metadata": {
            "tags": [],
            "needs_background": "light"
          }
        }
      ]
    },
    {
      "cell_type": "markdown",
      "metadata": {
        "id": "4csymIFaCi1A"
      },
      "source": [
        "###**Model evaluation function**"
      ]
    },
    {
      "cell_type": "code",
      "metadata": {
        "id": "XlmNUob3-OZM"
      },
      "source": [
        "def evaluate(encoder, decoder, sentence, max_length=50):\n",
        "    with torch.no_grad():\n",
        "        input_tensor = tensorFromSentence(input_lang, sentence)\n",
        "        input_length = input_tensor.size()[0]\n",
        "        encoder_hidden = encoder.initHidden()\n",
        "\n",
        "        encoder_outputs = torch.zeros(max_length, encoder.hidden_size, device=device)\n",
        "\n",
        "        for ei in range(input_length):\n",
        "            encoder_output, encoder_hidden = encoder(input_tensor[ei],encoder_hidden)\n",
        "            encoder_outputs[ei] += encoder_output[0, 0]\n",
        "\n",
        "        decoder_input = torch.tensor([[SOS_token]], device=device)  # SOS\n",
        "        decoder_hidden = encoder_hidden\n",
        "\n",
        "        decoded_words = []\n",
        "        decoder_attentions = torch.zeros(max_length, max_length)\n",
        "\n",
        "        for di in range(max_length):\n",
        "            decoder_output, decoder_hidden, decoder_attention = decoder(\n",
        "                decoder_input, decoder_hidden, encoder_outputs)\n",
        "            decoder_attentions[di] = decoder_attention.data\n",
        "            topv, topi = decoder_output.data.topk(1)\n",
        "            if topi.item() == EOS_token:\n",
        "                decoded_words.append('<EOS>')\n",
        "                break\n",
        "            else:\n",
        "                decoded_words.append(output_lang.index2word[topi.item()])\n",
        "\n",
        "            decoder_input = topi.squeeze().detach()\n",
        "\n",
        "        return decoded_words, decoder_attentions[:di + 1]"
      ],
      "execution_count": null,
      "outputs": []
    },
    {
      "cell_type": "code",
      "metadata": {
        "id": "4_cHrGS7-RHN"
      },
      "source": [
        "def evaluateRandomly(encoder, decoder, n=20):\n",
        "    correct = 0\n",
        "    for i in range(n):\n",
        "        pair = random.choice(pairs)\n",
        "        print('\\nEnglish Question-', pair[0])\n",
        "        print('Ground truth Query-', pair[1])\n",
        "        generated_tokens, attentions = evaluate(encoder, decoder, pair[0])\n",
        "        generated_query = ' '.join(generated_tokens)\n",
        "        if generated_query[:-6] == pair[1]:\n",
        "            correct += 1\n",
        "        print('Generated Query-', generated_query)\n",
        "    "
      ],
      "execution_count": null,
      "outputs": []
    },
    {
      "cell_type": "code",
      "metadata": {
        "id": "YIuxVBPq-UCo",
        "colab": {
          "base_uri": "https://localhost:8080/"
        },
        "outputId": "7a9c2dcf-528a-45c9-8fab-811adc5d1158"
      },
      "source": [
        "\n",
        "evaluateRandomly(encoder1, attn_decoder1)\n"
      ],
      "execution_count": null,
      "outputs": [
        {
          "output_type": "stream",
          "text": [
            "\n",
            "English Question- ['what', 'were', 'the', 'high', 'assist', 'on', 'january', '2', '?']\n",
            "Ground truth Query- ['SELECT', 'high', 'assists', 'FROM', 'table_', 'WHERE', 'date', 'EQL', 'january', '2']\n",
            "Generated Query- SELECT high 2 FROM table_ WHERE date EQL january 2 <EOS>\n",
            "\n",
            "English Question- ['who', 'is', 'the', 'republican', 'incumbent', 'for', 'pennsylvania', '9', '?']\n",
            "Ground truth Query- ['SELECT', 'incumbent', 'FROM', 'table_', 'WHERE', 'party', 'EQL', 'republican', 'AND', 'district', 'EQL', 'pennsylvania', '9']\n",
            "Generated Query- SELECT incumbent FROM table_ WHERE year EQL 9 <EOS>\n",
            "\n",
            "English Question- ['what', 'is', 'the', 'average', '2006', 'value', 'with', 'a', '2010', 'value', 'of', '417.9', 'and', 'a', '2011', 'value', 'greater', 'than', '426.7', '?']\n",
            "Ground truth Query- ['SELECT', 'avg', '(', '2006', ')', 'FROM', 'table_', 'WHERE', '2010', 'EQL', '417.9', 'AND', '2011', 'GT', '426.7']\n",
            "Generated Query- SELECT avg ( table_ WHERE WHERE table_ WHERE SOS SOS SOS 2011 EQL SOS <EOS>\n",
            "\n",
            "English Question- ['what', 'is', 'the', 'round', 'for', 'zach', 'boychuk', '?']\n",
            "Ground truth Query- ['SELECT', 'COUNT', '(', 'round', ')', 'FROM', 'table_', 'WHERE', 'player', 'EQL', 'zach', 'boychuk']\n",
            "Generated Query- SELECT round FROM table_ WHERE round EQL SOS <EOS>\n",
            "\n",
            "English Question- ['when', 'has', 'a', 'record', 'of', '9–1', ',', 'and', 'a', 'tournament', 'champion', 'of', 'duke', '?']\n",
            "Ground truth Query- ['SELECT', 'year', 'FROM', 'table_', 'WHERE', 'record', 'EQL', '9–1', 'AND', 'tournament', 'champion', 'EQL', 'duke']\n",
            "Generated Query- SELECT FROM table_ WHERE opponent EQL 14 AND opponent EQL 14 AND opponent EQL 14 <EOS>\n",
            "\n",
            "English Question- ['what', 'is', 'the', 'authority', 'status', 'of', 'the', 'school', 'in', 'ellerslie', 'with', 'a', 'decile', 'of', '7', '?']\n",
            "Ground truth Query- ['SELECT', 'authority', 'FROM', 'table_', 'WHERE', 'area', 'EQL', 'ellerslie', 'AND', 'decile', 'EQL', '7']\n",
            "Generated Query- SELECT status FROM table_ WHERE name EQL SOS SOS <EOS>\n",
            "\n",
            "English Question- ['what', 'was', 'the', 'result', 'of', 'the', 'game', 'on', 'november', '6', ',', '1988', '?']\n",
            "Ground truth Query- ['SELECT', 'result', 'FROM', 'table_', 'WHERE', 'date', 'EQL', 'november', '6', ',', '1988']\n",
            "Generated Query- SELECT result FROM table_ WHERE date EQL january , , , , <EOS>\n",
            "\n",
            "English Question- ['what', 'was', 'the', 'result', 'of', 'the', 'game', 'played', 'in', 'texas', 'stadium', 'with', 'more', 'than', '46,267', 'in', 'the', 'crowd', 'and', 'against', 'the', 'pittsburgh', 'steelers', '?']\n",
            "Ground truth Query- ['SELECT', 'result', 'FROM', 'table_', 'WHERE', 'game', 'site', 'EQL', 'texas', 'stadium', 'AND', 'attendance', 'GT', '46,267', 'AND', 'opponent', 'EQL', 'pittsburgh', 'steelers']\n",
            "Generated Query- SELECT result FROM table_ WHERE score EQL l AND year GT GT <EOS>\n",
            "\n",
            "English Question- ['which', 'rank', 'has', 'a', 'bronze', 'of', '3', '?']\n",
            "Ground truth Query- ['SELECT', 'rank', 'FROM', 'table_', 'WHERE', 'bronze', 'EQL', '3']\n",
            "Generated Query- SELECT rank FROM table_ WHERE rank EQL 3 <EOS>\n",
            "\n",
            "English Question- ['how', 'many', 'states', 'is', 'grant', 'wharington', 'from', '?']\n",
            "Ground truth Query- ['SELECT', 'COUNT', '(', 'state/country', ')', 'FROM', 'table_', 'WHERE', 'skipper', 'EQL', 'grant', 'wharington']\n",
            "Generated Query- SELECT COUNT ( FROM ) FROM table_ WHERE SOS EQL SOS <EOS>\n",
            "\n",
            "English Question- ['what', 'position', 'did', 'the', 'team', 'finish', 'in', 'with', 'a', 'difference', 'of', '-', '6', ',', '3', 'losses', ',', 'and', 'over', '4', 'draws', '?']\n",
            "Ground truth Query- ['SELECT', 'COUNT', '(', 'position', ')', 'FROM', 'table_', 'WHERE', 'difference', 'EQL', '-', '6', 'AND', 'lost', 'EQL', '3', 'AND', 'drawn', 'GT', '4']\n",
            "Generated Query- SELECT position FROM table_ WHERE round LT 6 AND lost EQL 6 <EOS>\n",
            "\n",
            "English Question- ['what', 'is', 'place', ',', 'when', 'score', 'is', '72-72=144', ',', 'when', 'country', 'is', 'united', 'states', ',', 'and', 'when', 'player', 'is', 'scott', 'mccarron', '?']\n",
            "Ground truth Query- ['SELECT', 'place', 'FROM', 'table_', 'WHERE', 'score', 'EQL', '72-72=144', 'AND', 'country', 'EQL', 'united', 'states', 'AND', 'player', 'EQL', 'scott', 'mccarron']\n",
            "Generated Query- SELECT place FROM table_ WHERE score EQL SOS AND score EQL SOS <EOS>\n",
            "\n",
            "English Question- ['what', 'is', 'the', 'least', 'yards', 'when', 'the', 'average', 'is', '7', 'and', 'the', 'long', 'is', 'less', 'than', '7', '?']\n",
            "Ground truth Query- ['SELECT', 'min', '(', 'yards', ')', 'FROM', 'table_', 'WHERE', 'avg', '.', 'EQL', '7', 'AND', 'long', 'LT', '7']\n",
            "Generated Query- SELECT avg ( average ) FROM table_ WHERE start EQL 7 AND name EQL 7 <EOS>\n",
            "\n",
            "English Question- ['how', 'many', 'date', 'of', 'appointments', 'are', 'there', 'when', 'the', 'date', 'of', 'vacancy', 'was', '2', 'october', '2010', '?']\n",
            "Ground truth Query- ['SELECT', 'COUNT', '(', 'date', 'of', 'appointment', ')', 'FROM', 'table_', 'WHERE', 'date', 'of', 'vacancy', 'EQL', '2', 'october', '2010']\n",
            "Generated Query- SELECT date of vacancy FROM table_ WHERE date EQL SOS october 2 <EOS>\n",
            "\n",
            "English Question- ['what', 'player', 'has', 'a', 'to', 'par', 'of', '+1', 'with', 'a', 'score', 'of', '71-67-73=211', '?']\n",
            "Ground truth Query- ['SELECT', 'player', 'FROM', 'table_', 'WHERE', 'to', 'par', 'EQL', '+1', 'AND', 'score', 'EQL', '71-67-73=211']\n",
            "Generated Query- SELECT player FROM table_ WHERE score EQL SOS AND score EQL SOS <EOS>\n",
            "\n",
            "English Question- ['which', 'website', 'has', 'a', 'frequency', 'smaller', 'than', '760', 'and', 'a', 'callsign', 'of', 'kkyx', '?']\n",
            "Ground truth Query- ['SELECT', 'website', 'FROM', 'table_', 'WHERE', 'frequency', 'LT', '760', 'AND', 'callsign', 'EQL', 'kkyx']\n",
            "Generated Query- SELECT frequency FROM table_ WHERE frequency mhz EQL SOS AND frequency EQL SOS <EOS>\n",
            "\n",
            "English Question- ['what', 'is', 'the', 'average', 'rank', 'for', 'a', 'building', 'with', '24', 'floors', '?']\n",
            "Ground truth Query- ['SELECT', 'avg', '(', 'rank', ')', 'FROM', 'table_', 'WHERE', 'floors', 'EQL', '24']\n",
            "Generated Query- SELECT avg ( rank ) FROM table_ WHERE rank EQL 15 AND rank EQL 15 <EOS>\n",
            "\n",
            "English Question- ['which', 'title', 'has', 'a', 'songwriter', '(', 's', ')', 'of', 'hadise', 'açıkgöz', ',', 'stefaan', 'fernande', ',', 'elio', 'deepcore', '?']\n",
            "Ground truth Query- ['SELECT', 'title', 'FROM', 'table_', 'WHERE', 'songwriter', '(', 's', ')', 'EQL', 'hadise', 'açıkgöz', ',', 'stefaan', 'fernande', ',', 'elio', 'deepcore']\n",
            "Generated Query- SELECT title FROM table_ WHERE SOS ( SOS ) EQL SOS ( SOS ) SOS SOS SOS SOS <EOS>\n",
            "\n",
            "English Question- ['what', 'is', 'the', 'average', 'year', 'having', 'a', 'rank', 'among', 'provinces', 'over', '5', 'and', 'ten-year', 'percentage', 'change', 'of', '67.3', '?']\n",
            "Ground truth Query- ['SELECT', 'avg', '(', 'year', ')', 'FROM', 'table_', 'WHERE', 'ten', 'year', '%', 'change', 'EQL', '67.3', 'AND', 'rank', 'among', 'provinces', 'GT', '5']\n",
            "Generated Query- SELECT avg ( rank ) FROM table_ WHERE AND EQL SOS AND SOS EQL SOS SOS <EOS>\n",
            "\n",
            "English Question- ['when', 'was', 'the', 'winning', 'score', '–12', '(', '69-66-72-65=272', ')', '?']\n",
            "Ground truth Query- ['SELECT', 'date', 'FROM', 'table_', 'WHERE', 'winning', 'score', 'EQL', '–12', '(', '69-66-72-65=272', ')']\n",
            "Generated Query- SELECT winning FROM table_ WHERE score EQL SOS ( SOS ) ) <EOS>\n"
          ],
          "name": "stdout"
        }
      ]
    },
    {
      "cell_type": "markdown",
      "metadata": {
        "id": "ftUkpFxjA5mf"
      },
      "source": [
        "References:\n",
        "1. https://pytorch.org/tutorials/intermediate/seq2seq_translation_tutorial.html"
      ]
    }
  ]
}