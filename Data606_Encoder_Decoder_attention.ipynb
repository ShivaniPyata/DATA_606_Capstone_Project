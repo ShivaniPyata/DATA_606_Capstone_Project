{
  "nbformat": 4,
  "nbformat_minor": 0,
  "metadata": {
    "colab": {
      "name": "Data606_Encoder-Decoder_attention.ipynb",
      "provenance": [],
      "collapsed_sections": [],
      "authorship_tag": "ABX9TyOizjfzcZs/TLoOrccv4zS3"
    },
    "kernelspec": {
      "name": "python3",
      "display_name": "Python 3"
    },
    "language_info": {
      "name": "python"
    },
    "accelerator": "GPU"
  },
  "cells": [
    {
      "cell_type": "markdown",
      "metadata": {
        "id": "nxdJk93q3OQL"
      },
      "source": [
        "#**<center>Natural Language Text to SQL Query Conversion**\n",
        "##**<center>GRU based Encoder-Decoder model**"
      ]
    },
    {
      "cell_type": "markdown",
      "metadata": {
        "id": "JxjRpT-l_ERw"
      },
      "source": [
        "###**Importing necessary libraries**"
      ]
    },
    {
      "cell_type": "code",
      "metadata": {
        "colab": {
          "base_uri": "https://localhost:8080/"
        },
        "id": "JsCTwwBebsBt",
        "outputId": "b9193f00-18f2-4bae-b4e0-f85703934e3e"
      },
      "source": [
        "import nltk\n",
        "nltk.download('punkt')"
      ],
      "execution_count": 1,
      "outputs": [
        {
          "output_type": "stream",
          "text": [
            "[nltk_data] Downloading package punkt to /root/nltk_data...\n",
            "[nltk_data]   Package punkt is already up-to-date!\n"
          ],
          "name": "stdout"
        },
        {
          "output_type": "execute_result",
          "data": {
            "text/plain": [
              "True"
            ]
          },
          "metadata": {
            "tags": []
          },
          "execution_count": 1
        }
      ]
    },
    {
      "cell_type": "code",
      "metadata": {
        "colab": {
          "base_uri": "https://localhost:8080/"
        },
        "id": "3REbOtKc3VHz",
        "outputId": "df302bd6-23d9-4306-841a-350ea5a64edf"
      },
      "source": [
        "pip install records"
      ],
      "execution_count": 2,
      "outputs": [
        {
          "output_type": "stream",
          "text": [
            "Requirement already satisfied: records in /usr/local/lib/python3.7/dist-packages (0.5.3)\n",
            "Requirement already satisfied: SQLAlchemy; python_version >= \"3.0\" in /usr/local/lib/python3.7/dist-packages (from records) (1.4.7)\n",
            "Requirement already satisfied: openpyxl<2.5.0 in /usr/local/lib/python3.7/dist-packages (from records) (2.4.11)\n",
            "Requirement already satisfied: docopt in /usr/local/lib/python3.7/dist-packages (from records) (0.6.2)\n",
            "Requirement already satisfied: tablib>=0.11.4 in /usr/local/lib/python3.7/dist-packages (from records) (3.0.0)\n",
            "Requirement already satisfied: greenlet!=0.4.17; python_version >= \"3\" in /usr/local/lib/python3.7/dist-packages (from SQLAlchemy; python_version >= \"3.0\"->records) (1.0.0)\n",
            "Requirement already satisfied: importlib-metadata; python_version < \"3.8\" in /usr/local/lib/python3.7/dist-packages (from SQLAlchemy; python_version >= \"3.0\"->records) (3.10.1)\n",
            "Requirement already satisfied: jdcal in /usr/local/lib/python3.7/dist-packages (from openpyxl<2.5.0->records) (1.4.1)\n",
            "Requirement already satisfied: et-xmlfile in /usr/local/lib/python3.7/dist-packages (from openpyxl<2.5.0->records) (1.0.1)\n",
            "Requirement already satisfied: typing-extensions>=3.6.4; python_version < \"3.8\" in /usr/local/lib/python3.7/dist-packages (from importlib-metadata; python_version < \"3.8\"->SQLAlchemy; python_version >= \"3.0\"->records) (3.7.4.3)\n",
            "Requirement already satisfied: zipp>=0.5 in /usr/local/lib/python3.7/dist-packages (from importlib-metadata; python_version < \"3.8\"->SQLAlchemy; python_version >= \"3.0\"->records) (3.4.1)\n"
          ],
          "name": "stdout"
        }
      ]
    },
    {
      "cell_type": "code",
      "metadata": {
        "id": "SeVZdo0s3XPj",
        "colab": {
          "base_uri": "https://localhost:8080/"
        },
        "outputId": "f47c8b61-80ff-4551-d49d-2145c350427e"
      },
      "source": [
        "from tqdm.autonotebook import tqdm\n",
        "\n",
        "import numpy as np\n",
        "import pandas as pd\n",
        "import records\n",
        "import seaborn as sns\n",
        "import matplotlib\n",
        "import matplotlib.pyplot as plt\n",
        "import matplotlib.ticker as ticker\n",
        "import json\n",
        "import time\n",
        "import unicodedata\n",
        "\n",
        "from __future__ import unicode_literals, print_function, division\n",
        "\n",
        "from collections import defaultdict\n",
        "from io import open\n",
        "from __future__ import unicode_literals, print_function, division\n",
        "\n",
        "\n",
        "import warnings\n",
        "warnings.filterwarnings(\"ignore\", category=FutureWarning)\n",
        "warnings.filterwarnings(\"ignore\", category=ImportWarning)"
      ],
      "execution_count": 3,
      "outputs": [
        {
          "output_type": "stream",
          "text": [
            "/usr/local/lib/python3.7/dist-packages/ipykernel_launcher.py:1: TqdmExperimentalWarning: Using `tqdm.autonotebook.tqdm` in notebook mode. Use `tqdm.tqdm` instead to force console mode (e.g. in jupyter console)\n",
            "  \"\"\"Entry point for launching an IPython kernel.\n"
          ],
          "name": "stderr"
        }
      ]
    },
    {
      "cell_type": "code",
      "metadata": {
        "colab": {
          "base_uri": "https://localhost:8080/"
        },
        "id": "6PwAD6WS3aFA",
        "outputId": "90db17a6-ae8c-477e-baf1-95792c12d134"
      },
      "source": [
        "import torch\n",
        "import torch.nn as nn\n",
        "import torch.nn.functional as F\n",
        "from torch.utils.data import * \n",
        "from torch.autograd import Variable\n",
        "from torch import optim\n",
        "\n",
        "from google.colab import drive\n",
        "drive.mount('/content/drive/')"
      ],
      "execution_count": 4,
      "outputs": [
        {
          "output_type": "stream",
          "text": [
            "Drive already mounted at /content/drive/; to attempt to forcibly remount, call drive.mount(\"/content/drive/\", force_remount=True).\n"
          ],
          "name": "stdout"
        }
      ]
    },
    {
      "cell_type": "code",
      "metadata": {
        "id": "rDU6X2K73cb4"
      },
      "source": [
        "import os\n",
        "import sys\n",
        "sys.path.append('/content/drive/MyDrive/lib/')"
      ],
      "execution_count": 5,
      "outputs": []
    },
    {
      "cell_type": "code",
      "metadata": {
        "id": "w-YsqTBi3izZ"
      },
      "source": [
        "from lib_db import *"
      ],
      "execution_count": 6,
      "outputs": []
    },
    {
      "cell_type": "code",
      "metadata": {
        "id": "u1fLEM3N-AVV"
      },
      "source": [
        "\"\"\"\n",
        "Device\n",
        "\"\"\"\n",
        "device = torch.device(\"cuda\") if torch.cuda.is_available() else torch.device(\"cpu\")"
      ],
      "execution_count": 7,
      "outputs": []
    },
    {
      "cell_type": "markdown",
      "metadata": {
        "id": "vQpxR1D24c8_"
      },
      "source": [
        "###**Preparing training data**"
      ]
    },
    {
      "cell_type": "code",
      "metadata": {
        "id": "XmVXDnwNz8NW"
      },
      "source": [
        "SOS_token = 0\n",
        "EOS_token = 1"
      ],
      "execution_count": 8,
      "outputs": []
    },
    {
      "cell_type": "code",
      "metadata": {
        "id": "0FsZ9W6i3l1e"
      },
      "source": [
        "\n",
        "\n",
        "class Lang:\n",
        "    def __init__(self, name):\n",
        "        self.name = name\n",
        "        self.word2index = defaultdict(int)\n",
        "        self.word2count = defaultdict(int)\n",
        "        self.index2word = {0: \"SOS\", 1: \"EOS\"}\n",
        "        self.n_words = 2  # Count SOS and EOS\n",
        "\n",
        "    def add_sent(self, sentence):\n",
        "        for word in sentence:\n",
        "            self.add_word(word)\n",
        "\n",
        "    def add_word(self, word):\n",
        "        if word not in self.word2index:\n",
        "            self.word2index[word] = self.n_words\n",
        "            self.word2count[word] = 1\n",
        "            self.index2word[self.n_words] = word\n",
        "            self.n_words += 1\n",
        "        else:\n",
        "            self.word2count[word] += 1\n",
        "\n",
        "\n"
      ],
      "execution_count": 9,
      "outputs": []
    },
    {
      "cell_type": "code",
      "metadata": {
        "id": "-GYXJfKQW9ff"
      },
      "source": [
        "\"\"\"\n",
        "To Load the train data from file into the memory  \n",
        "\"\"\"\n",
        "def read_Lang(lang1, lang2):\n",
        "    print(\"Reading lines...\")\n",
        "\n",
        "    lines = pd.read_json(\"/content/drive/MyDrive/Data606_finalproject/output/tokenized_train.jsonl\", lines=True)\n",
        "\n",
        "    # Split every line into pairs\n",
        "    pairs= []\n",
        "    for idx, row in lines.iterrows():\n",
        "        tokens_en = row[\"tokenized_question\"]\n",
        "        tokens_sql = row[\"tokenized_query\"]\n",
        "        pairs.append([tokens_en, tokens_sql])\n",
        "\n",
        "    in_lang = Lang(lang1)\n",
        "    out_lang = Lang(lang2)\n",
        "\n",
        "    return in_lang, out_lang, pairs\n",
        "\n",
        "\n",
        "def data_prepare(lang1, lang2):\n",
        "    in_lang, out_lang, pairs = read_Lang(lang1, lang2)\n",
        "    print(\"Read %s sentence pairs\" % len(pairs))\n",
        "    print(\"\\nCounting words...\")\n",
        "    for pair in pairs:\n",
        "        in_lang.add_sent(pair[0])\n",
        "        out_lang.add_sent(pair[1])\n",
        "    print(\"Number of words in\", in_lang.name, in_lang.n_words)\n",
        "    print(\"Number of words in\", out_lang.name, out_lang.n_words)\n",
        "    return in_lang, out_lang, pairs"
      ],
      "execution_count": 10,
      "outputs": []
    },
    {
      "cell_type": "code",
      "metadata": {
        "colab": {
          "base_uri": "https://localhost:8080/"
        },
        "id": "iMSFlGLW6XL1",
        "outputId": "1684c266-ace5-48d7-8697-4c91ad105aa6"
      },
      "source": [
        "global in_lang\n",
        "global out_lang\n",
        "global pairs\n",
        "\n",
        "\n",
        "in_lang, out_lang, pairs= data_prepare(\"en\", \"sql\")\n",
        "print(\"\\nRandom Question and query pair looks like:\\n\")\n",
        "print(random.choice(pairs))\n"
      ],
      "execution_count": 11,
      "outputs": [
        {
          "output_type": "stream",
          "text": [
            "Reading lines...\n",
            "Read 56355 sentence pairs\n",
            "\n",
            "Counting words...\n",
            "Number of words in en 39685\n",
            "Number of words in sql 38066\n",
            "\n",
            "Random Question and query pair looks like:\n",
            "\n",
            "[['when', 'type', 'was', 'rowexit', 'what', 'was', 'the', 'category', '?'], ['SELECT', 'category', 'FROM', 'table_', 'WHERE', 'type', 'EQL', 'rowexit']]\n"
          ],
          "name": "stdout"
        }
      ]
    },
    {
      "cell_type": "code",
      "metadata": {
        "id": "2K8tcITaX_3Q"
      },
      "source": [
        "\"\"\"\n",
        "To convert language pairs into tensors to input the model\n",
        "\"\"\"\n",
        "def indexes_Sentence(lang, sentence):\n",
        "    return [lang.word2index[word] for word in sentence]\n",
        "\n",
        "def tensor_Sentence(lang, sentence):\n",
        "    indexes = indexes_Sentence(lang, sentence)\n",
        "    indexes.append(EOS_token)\n",
        "    return torch.tensor(indexes, dtype=torch.long, device=device).view(-1, 1)\n",
        "\n",
        "def tensors_Pair(pair):\n",
        "    input_tensor = tensor_Sentence(in_lang, pair[0])\n",
        "    target_tensor = tensor_Sentence(out_lang, pair[1])\n",
        "    return (input_tensor, target_tensor)\n",
        "\n"
      ],
      "execution_count": 12,
      "outputs": []
    },
    {
      "cell_type": "code",
      "metadata": {
        "id": "A5buBZ7IpcLa",
        "colab": {
          "base_uri": "https://localhost:8080/"
        },
        "outputId": "6a2b2e62-7efb-4f5f-9e38-40514b9f3c45"
      },
      "source": [
        "pair = pairs[0]\n",
        "print(pair)\n",
        "training_pairs = tensors_Pair(pair)\n",
        "print(\"\\nTensor for Question and query pair looks like:\\n\")\n",
        "training_pairs"
      ],
      "execution_count": 13,
      "outputs": [
        {
          "output_type": "stream",
          "text": [
            "[['tell', 'me', 'what', 'the', 'notes', 'are', 'for', 'south', 'australia'], ['SELECT', 'notes', 'FROM', 'table_', 'WHERE', 'current', 'slogan', 'EQL', 'south', 'australia']]\n",
            "\n",
            "Tensor for Question and query pair looks like:\n",
            "\n"
          ],
          "name": "stdout"
        },
        {
          "output_type": "execute_result",
          "data": {
            "text/plain": [
              "(tensor([[ 2],\n",
              "         [ 3],\n",
              "         [ 4],\n",
              "         [ 5],\n",
              "         [ 6],\n",
              "         [ 7],\n",
              "         [ 8],\n",
              "         [ 9],\n",
              "         [10],\n",
              "         [ 1]], device='cuda:0'), tensor([[ 2],\n",
              "         [ 3],\n",
              "         [ 4],\n",
              "         [ 5],\n",
              "         [ 6],\n",
              "         [ 7],\n",
              "         [ 8],\n",
              "         [ 9],\n",
              "         [10],\n",
              "         [11],\n",
              "         [ 1]], device='cuda:0'))"
            ]
          },
          "metadata": {
            "tags": []
          },
          "execution_count": 13
        }
      ]
    },
    {
      "cell_type": "code",
      "metadata": {
        "id": "kxNkBGhVWhx8"
      },
      "source": [
        "\"\"\"\n",
        "To prepare validation data\n",
        "\"\"\"\n",
        "def read_Lang_val(lang1, lang2):\n",
        "    print(\"Reading lines...\")\n",
        "\n",
        "    lines = pd.read_json(\"/content/drive/MyDrive/Data606_finalproject/output/tokenized_test.jsonl\", lines=True)\n",
        "\n",
        "    # Split every line into pairs and normalize\n",
        "    pairs = []\n",
        "    for idx, row in lines.iterrows():\n",
        "        tokens_en = row[\"tokenized_question\"]\n",
        "        tokens_sql = row[\"tokenized_query\"]\n",
        "        pairs.append([tokens_en, tokens_sql])\n",
        "\n",
        "    in_lang = Lang(lang1)\n",
        "    out_lang = Lang(lang2)\n",
        "\n",
        "    return in_lang, out_lang, pairs\n",
        "\n",
        "\n",
        "def Val_Data(lang1, lang2):\n",
        "    in_lang, out_lang, pairs = read_Lang_val(lang1, lang2)\n",
        "    print(\"Read %s sentence pairs\" % len(pairs))\n",
        "    print(\"Trimmed to %s sentence pairs\" % len(pairs))\n",
        "    print(\"Counting words...\")\n",
        "    for pair in pairs:\n",
        "        in_lang.add_sent(pair[0])\n",
        "        out_lang.add_sent(pair[1])\n",
        "    print(\"Counted words:\")\n",
        "    print(in_lang.name, in_lang.n_words)\n",
        "    print(out_lang.name, out_lang.n_words)\n",
        "    return in_lang, out_lang, pairs\n",
        "\n"
      ],
      "execution_count": 14,
      "outputs": []
    },
    {
      "cell_type": "code",
      "metadata": {
        "colab": {
          "base_uri": "https://localhost:8080/"
        },
        "id": "nrlhQBvzgAYC",
        "outputId": "b9961c90-956a-4972-9cb7-67f7e6b18f6d"
      },
      "source": [
        "global pairs_test\n",
        "\n",
        "in_lang, out_lang, pairs_test= Val_Data(\"en\", \"sql\")\n",
        "print(\"\\nRandom Question and query pair looks like:\\n\")\n",
        "print(random.choice(pairs_test))"
      ],
      "execution_count": 15,
      "outputs": [
        {
          "output_type": "stream",
          "text": [
            "Reading lines...\n",
            "Read 15878 sentence pairs\n",
            "Trimmed to 15878 sentence pairs\n",
            "Counting words...\n",
            "Counted words:\n",
            "en 16358\n",
            "sql 15618\n",
            "\n",
            "Random Question and query pair looks like:\n",
            "\n",
            "[['what', 'is', 'the', 'type', 'when', 'the', 'year', '(', 's', ')', 'is', '1982', '?'], ['SELECT', 'type', 'FROM', 'table_', 'WHERE', 'year', '(', 's', ')', 'EQL', '1982']]\n"
          ],
          "name": "stdout"
        }
      ]
    },
    {
      "cell_type": "markdown",
      "metadata": {
        "id": "Sg9XFtuyBH-C"
      },
      "source": [
        "###**Building GRU-based encoder and decoder model**"
      ]
    },
    {
      "cell_type": "markdown",
      "metadata": {
        "id": "n9-GzzUt_4W8"
      },
      "source": [
        "###**Encoder**"
      ]
    },
    {
      "cell_type": "code",
      "metadata": {
        "id": "dkzdXTwk_0uR"
      },
      "source": [
        "\"\"\"\n",
        "RNN Encoder\n",
        "\"\"\"\n",
        "class RNN_Encoder(nn.Module):\n",
        "    def __init__(self, input_size, hidden_size,dropout):\n",
        "        super(RNN_Encoder, self).__init__()\n",
        "        self.hidden_size = hidden_size\n",
        "\n",
        "        self.embedding = nn.Embedding(input_size, hidden_size)\n",
        "        self.gru = nn.GRU(hidden_size, hidden_size)\n",
        "        self.dropout = nn.Dropout(dropout)\n",
        "\n",
        "    def forward(self, input, hidden):\n",
        "        embedded = self.embedding(input).view(1, 1, -1)\n",
        "        output = embedded\n",
        "        output, hidden = self.gru(output, hidden)\n",
        "        return output, hidden\n",
        "\n",
        "    def initHidden(self):\n",
        "        return torch.zeros(1, 1, self.hidden_size, device=device)"
      ],
      "execution_count": 16,
      "outputs": []
    },
    {
      "cell_type": "markdown",
      "metadata": {
        "id": "KcTLxtc4BWng"
      },
      "source": [
        "###**Decoder**"
      ]
    },
    {
      "cell_type": "code",
      "metadata": {
        "id": "RoWoXR99rIZI"
      },
      "source": [
        "\"\"\"\n",
        "Decoder\n",
        "\"\"\"\n",
        "class RNN_Decoder(nn.Module):\n",
        "    def __init__(self, hidden_size, output_size):\n",
        "        super(RNN_Decoder, self).__init__()\n",
        "        self.hidden_size = hidden_size\n",
        "\n",
        "        self.embedding = nn.Embedding(output_size, hidden_size)\n",
        "        self.gru = nn.GRU(hidden_size, hidden_size)\n",
        "        self.out = nn.Linear(hidden_size, output_size)\n",
        "        self.softmax = nn.LogSoftmax(dim=1)\n",
        "\n",
        "    def forward(self, input, hidden):\n",
        "        output = self.embedding(input).view(1, 1, -1)\n",
        "        output = F.relu(output)\n",
        "        output, hidden = self.gru(output, hidden)\n",
        "        output = self.softmax(self.out(output[0]))\n",
        "        return output, hidden\n",
        "\n",
        "    def initHidden(self):\n",
        "        return torch.zeros(1, 1, self.hidden_size, device=device)"
      ],
      "execution_count": 17,
      "outputs": []
    },
    {
      "cell_type": "markdown",
      "metadata": {
        "id": "3QYMrxJPImoo"
      },
      "source": [
        "###**Attention Decoder**"
      ]
    },
    {
      "cell_type": "code",
      "metadata": {
        "id": "p48-AWuo_Fsi"
      },
      "source": [
        "MAX_LENGTH = 50\n",
        "\"\"\"\n",
        "Attention Decoder\n",
        "\"\"\"\n",
        "\n",
        "class RNN_AttnDecoder(nn.Module):\n",
        "    def __init__(self, hidden_size, output_size, dropout_p, max_length=MAX_LENGTH):\n",
        "        super(RNN_AttnDecoder, self).__init__()\n",
        "        self.hidden_size = hidden_size\n",
        "        self.output_size = output_size\n",
        "        self.dropout_p = dropout_p\n",
        "        self.max_length = max_length\n",
        "\n",
        "        self.embedding = nn.Embedding(self.output_size, self.hidden_size)\n",
        "        self.attn = nn.Linear(self.hidden_size * 2, self.max_length)\n",
        "        self.attn_combine = nn.Linear(self.hidden_size * 2, self.hidden_size)\n",
        "        self.dropout = nn.Dropout(self.dropout_p)\n",
        "        self.gru = nn.GRU(self.hidden_size, self.hidden_size)\n",
        "        self.out = nn.Linear(self.hidden_size, self.output_size)\n",
        "\n",
        "    def forward(self, input, hidden, encoder_outputs):\n",
        "        embedded = self.embedding(input).view(1, 1, -1)\n",
        "        embedded = self.dropout(embedded)\n",
        "\n",
        "        attn_weights = F.softmax(self.attn(torch.cat((embedded[0], hidden[0]), 1)), dim=1)\n",
        "        attn_applied = torch.bmm(attn_weights.unsqueeze(0),encoder_outputs.unsqueeze(0))\n",
        "\n",
        "        output = torch.cat((embedded[0], attn_applied[0]), 1)\n",
        "        output = self.attn_combine(output).unsqueeze(0)\n",
        "\n",
        "        output = F.relu(output)\n",
        "        output, hidden = self.gru(output, hidden)\n",
        "\n",
        "        output = F.log_softmax(self.out(output[0]), dim=1)\n",
        "        return output, hidden, attn_weights\n",
        "\n",
        "    def initHidden(self):\n",
        "        return torch.zeros(1, 1, self.hidden_size, device=device)"
      ],
      "execution_count": 18,
      "outputs": []
    },
    {
      "cell_type": "markdown",
      "metadata": {
        "id": "vcAcOZuRBgI0"
      },
      "source": [
        "###**Training function**"
      ]
    },
    {
      "cell_type": "code",
      "metadata": {
        "id": "Jlj9Nj4QI3-o"
      },
      "source": [
        "teacher_forcing_ratio = 0.5\n",
        "def train(input_tensor, target_tensor, encoder, decoder, encoder_optimizer, decoder_optimizer,\n",
        "          criterion, max_length=MAX_LENGTH):\n",
        "    encoder_hidden = encoder.initHidden()\n",
        "    encoder_optimizer.zero_grad()\n",
        "    decoder_optimizer.zero_grad()\n",
        "\n",
        "    input_length = input_tensor.size(0)\n",
        "    target_length = target_tensor.size(0)\n",
        "\n",
        "    encoder_outputs = torch.zeros(max_length, encoder.hidden_size, device=device)\n",
        "\n",
        "    loss = 0\n",
        "\n",
        "    for ei in range(input_length): \n",
        "        encoder_output, encoder_hidden = encoder(input_tensor[ei], encoder_hidden)\n",
        "\n",
        "        encoder_outputs[ei] = encoder_output[0, 0]\n",
        "\n",
        "    decoder_input = torch.tensor([[SOS_token]], device=device)\n",
        "\n",
        "    decoder_hidden = encoder_hidden\n",
        "\n",
        "    use_teacher_forcing = True if random.random() < teacher_forcing_ratio else False\n",
        "\n",
        "    if use_teacher_forcing:\n",
        "        # Teacher forcing: Feed the target as the next input\n",
        "        for di in range(target_length):\n",
        "            decoder_output, decoder_hidden, decoder_attention = decoder(\n",
        "                decoder_input, decoder_hidden, encoder_outputs)\n",
        "            loss += criterion(decoder_output, target_tensor[di])\n",
        "            decoder_input = target_tensor[di]  # Teacher forcing\n",
        "\n",
        "    else:\n",
        "        # Without teacher forcing: use its own predictions as the next input\n",
        "        for di in range(target_length):\n",
        "            decoder_output, decoder_hidden, decoder_attention = decoder(\n",
        "                decoder_input, decoder_hidden, encoder_outputs)\n",
        "            topv, topi = decoder_output.topk(1)\n",
        "            decoder_input = topi.squeeze().detach()  # detach from history as input\n",
        "\n",
        "            loss += criterion(decoder_output, target_tensor[di])\n",
        "            if decoder_input.item() == EOS_token:\n",
        "                break\n",
        "\n",
        "    loss.backward()\n",
        "\n",
        "    encoder_optimizer.step()\n",
        "    decoder_optimizer.step()\n",
        "\n",
        "    return loss.item() / target_length"
      ],
      "execution_count": 19,
      "outputs": []
    },
    {
      "cell_type": "markdown",
      "metadata": {
        "id": "fTHJCln5BpQI"
      },
      "source": [
        "###**Time Calculation**"
      ]
    },
    {
      "cell_type": "code",
      "metadata": {
        "id": "sb6APnew-FrE"
      },
      "source": [
        "import time\n",
        "import math\n",
        "\n",
        "\n",
        "def asMinutes(s):\n",
        "    m = math.floor(s / 60)\n",
        "    s -= m * 60\n",
        "    return '%dm %ds' % (m, s)\n",
        "\n",
        "\n",
        "def timeSince(since, percent):\n",
        "    now = time.time()\n",
        "    s = now - since\n",
        "    es = s / (percent)\n",
        "    rs = es - s\n",
        "    return '%s (- %s)' % (asMinutes(s), asMinutes(rs))"
      ],
      "execution_count": 20,
      "outputs": []
    },
    {
      "cell_type": "markdown",
      "metadata": {
        "id": "Xi3QuP7lCDmN"
      },
      "source": [
        "###**Function to plot graphs**"
      ]
    },
    {
      "cell_type": "code",
      "metadata": {
        "id": "s5crM3Ec-Lgt"
      },
      "source": [
        "def showPlot(points, plot_name):\n",
        "    plt.figure()\n",
        "    fig, ax = plt.subplots()\n",
        "    # this locator puts ticks at regular intervals\n",
        "    loc = ticker.MultipleLocator(base=0.2)\n",
        "    ax.yaxis.set_major_locator(loc)\n",
        "    plt.plot(points)\n",
        "    plt.savefig(plot_name + \".png\")\n",
        "\n",
        "\n",
        "def plot_data(x, y, xlabel = \"x\", ylabel = \"y\", label = 'plot'):\n",
        "\tplt.figure()\n",
        "\tplt.plot(x, y)\n",
        "\tplt.xlabel(\"Epochs\")\n",
        "\tplt.ylabel(\"Loss\")\n",
        "\tprint(\"Generating plot for \", label)\n",
        "\tplt.savefig(\"./\" + label + \".png\")"
      ],
      "execution_count": 21,
      "outputs": []
    },
    {
      "cell_type": "markdown",
      "metadata": {
        "id": "8H3FM37YBu_O"
      },
      "source": [
        "###**To call training function and print graphs and logs**"
      ]
    },
    {
      "cell_type": "code",
      "metadata": {
        "id": "6RGIaFv--Io3"
      },
      "source": [
        "def trainIters(encoder, decoder, n_iters, print_every=1000, plot_every=100, learning_rate=1):\n",
        "    start = time.time()\n",
        "    plot_losses = []\n",
        "    print_loss_total = 0\n",
        "    plot_loss_total = 0\n",
        "\n",
        "    encoder_optimizer = optim.Adam(encoder.parameters(), lr=learning_rate)\n",
        "    decoder_optimizer = optim.Adam(decoder.parameters(), lr=learning_rate)\n",
        "    training_pairs = [tensors_Pair(random.choice(pairs)) for i in range(n_iters)]\n",
        "    criterion = nn.CrossEntropyLoss()\n",
        "\n",
        "    for iter in range(1, n_iters + 1):\n",
        "        \n",
        "        training_pair = training_pairs[iter - 1]\n",
        "        input_tensor = training_pair[0]\n",
        "        target_tensor = training_pair[1]\n",
        "\n",
        "        loss = train(input_tensor, target_tensor, encoder,\n",
        "                     decoder, encoder_optimizer, decoder_optimizer, criterion)\n",
        "        print_loss_total += loss\n",
        "        plot_loss_total += loss\n",
        "\n",
        "        if iter % print_every == 0:\n",
        "            print_loss_avg = print_loss_total / print_every\n",
        "            print_loss_total = 0\n",
        "            print('%s (%d %d%%) %.4f' % (timeSince(start, iter / n_iters),\n",
        "                                      iter, iter / n_iters * 100, print_loss_avg))\n",
        "\n",
        "        if iter % plot_every == 0:\n",
        "            plot_loss_avg = plot_loss_total / plot_every\n",
        "            plot_losses.append(plot_loss_avg)\n",
        "            plot_loss_total = 0\n",
        "\n",
        "    showPlot(plot_losses, \"Baseline loss\")"
      ],
      "execution_count": 22,
      "outputs": []
    },
    {
      "cell_type": "markdown",
      "metadata": {
        "id": "L1iWfeTbCPGp"
      },
      "source": [
        "###**Training the model**"
      ]
    },
    {
      "cell_type": "code",
      "metadata": {
        "colab": {
          "base_uri": "https://localhost:8080/",
          "height": 537
        },
        "id": "D56R6h_DDIBQ",
        "outputId": "5c8f2efa-cbd1-4925-c43c-0cded625c2e4"
      },
      "source": [
        "dropout = 0.5\n",
        "dropout_p = 0.5\n",
        "hidden_size = 256\n",
        "\n",
        "\n",
        "encoder1 = RNN_Encoder(in_lang.n_words, hidden_size,dropout).to(device)\n",
        "\n",
        "attn_decoder1 = RNN_AttnDecoder(hidden_size, out_lang.n_words, dropout_p).to(device)\n",
        "\n",
        "trainIters(encoder1, attn_decoder1, n_iters = 15000, print_every=1000, plot_every=1000,learning_rate= 0.001)\n"
      ],
      "execution_count": 23,
      "outputs": [
        {
          "output_type": "stream",
          "text": [
            "0m 27s (- 6m 18s) (1000 6%) 3.6916\n",
            "0m 53s (- 5m 47s) (2000 13%) 3.1402\n",
            "1m 19s (- 5m 19s) (3000 20%) 2.9889\n",
            "1m 46s (- 4m 52s) (4000 26%) 2.7877\n",
            "2m 12s (- 4m 25s) (5000 33%) 2.8062\n",
            "2m 39s (- 3m 59s) (6000 40%) 2.6672\n",
            "3m 5s (- 3m 32s) (7000 46%) 2.6586\n",
            "3m 32s (- 3m 5s) (8000 53%) 2.6249\n",
            "3m 59s (- 2m 39s) (9000 60%) 2.5238\n",
            "4m 26s (- 2m 13s) (10000 66%) 2.5257\n",
            "4m 53s (- 1m 46s) (11000 73%) 2.4758\n",
            "5m 19s (- 1m 19s) (12000 80%) 2.3474\n",
            "5m 46s (- 0m 53s) (13000 86%) 2.3661\n",
            "6m 13s (- 0m 26s) (14000 93%) 2.3654\n",
            "6m 40s (- 0m 0s) (15000 100%) 2.3004\n"
          ],
          "name": "stdout"
        },
        {
          "output_type": "display_data",
          "data": {
            "text/plain": [
              "<Figure size 432x288 with 0 Axes>"
            ]
          },
          "metadata": {
            "tags": []
          }
        },
        {
          "output_type": "display_data",
          "data": {
            "image/png": "[encoded data removed]",
            "text/plain": [
              "<Figure size 432x288 with 1 Axes>"
            ]
          },
          "metadata": {
            "tags": [],
            "needs_background": "light"
          }
        }
      ]
    },
    {
      "cell_type": "markdown",
      "metadata": {
        "id": "4csymIFaCi1A"
      },
      "source": [
        "###**Model evaluation function**"
      ]
    },
    {
      "cell_type": "code",
      "metadata": {
        "id": "XlmNUob3-OZM"
      },
      "source": [
        "def evaluate(encoder, decoder, sentence, max_length=50):\n",
        "    with torch.no_grad():\n",
        "        input_tensor = tensor_Sentence(in_lang, sentence)\n",
        "        input_length = input_tensor.size()[0]\n",
        "        encoder_hidden = encoder.initHidden()\n",
        "\n",
        "        encoder_outputs = torch.zeros(max_length, encoder.hidden_size, device=device)\n",
        "\n",
        "        for ei in range(input_length):\n",
        "            encoder_output, encoder_hidden = encoder(input_tensor[ei],encoder_hidden)\n",
        "            encoder_outputs[ei] += encoder_output[0, 0]\n",
        "\n",
        "        decoder_input = torch.tensor([[SOS_token]], device=device)  # SOS\n",
        "        decoder_hidden = encoder_hidden\n",
        "\n",
        "        decoded_words = []\n",
        "        decoder_attentions = torch.zeros(max_length, max_length)\n",
        "\n",
        "        for di in range(max_length):\n",
        "            decoder_output, decoder_hidden, decoder_attention = decoder(\n",
        "                decoder_input, decoder_hidden, encoder_outputs)\n",
        "            decoder_attentions[di] = decoder_attention.data\n",
        "            topv, topi = decoder_output.data.topk(1)\n",
        "            if topi.item() == EOS_token:\n",
        "                decoded_words.append('<EOS>')\n",
        "                break\n",
        "            else:\n",
        "                decoded_words.append(out_lang.index2word[topi.item()])\n",
        "\n",
        "            decoder_input = topi.squeeze().detach()\n",
        "\n",
        "        return decoded_words, decoder_attentions[:di + 1]"
      ],
      "execution_count": 24,
      "outputs": []
    },
    {
      "cell_type": "code",
      "metadata": {
        "id": "4_cHrGS7-RHN"
      },
      "source": [
        "def evaluateRandomly(encoder, decoder, n=20):\n",
        "    correct = 0\n",
        "    for i in range(n):\n",
        "        pair = random.choice(pairs)\n",
        "        print('\\nEnglish Question-', pair[0])\n",
        "        print('Ground truth Query-', pair[1])\n",
        "        generated_tokens, attentions = evaluate(encoder, decoder, pair[0])\n",
        "        generated_query = ' '.join(generated_tokens)\n",
        "        if generated_query[:-6] == pair[1]:\n",
        "            correct += 1\n",
        "        print('Generated Query-', generated_query)\n",
        "    "
      ],
      "execution_count": 25,
      "outputs": []
    },
    {
      "cell_type": "code",
      "metadata": {
        "id": "YIuxVBPq-UCo",
        "colab": {
          "base_uri": "https://localhost:8080/"
        },
        "outputId": "f23b3940-ba3c-4a31-d53a-e4ef42f4bfd0"
      },
      "source": [
        "\n",
        "evaluateRandomly(encoder1, attn_decoder1)\n"
      ],
      "execution_count": 26,
      "outputs": [
        {
          "output_type": "stream",
          "text": [
            "\n",
            "English Question- ['what', 'is', 'the', 'highest', 'amount', 'of', 'plays', 'for', 'fluminense', '?']\n",
            "Ground truth Query- ['SELECT', 'max', '(', 'played', ')', 'FROM', 'table_', 'WHERE', 'team', 'EQL', 'fluminense']\n",
            "Generated Query- SELECT max ( FROM ) WHERE WHERE EQL EQL <EOS>\n",
            "\n",
            "English Question- ['what', 'is', 'model', 'number', ',', 'when', 'voltage', 'is', '2.0v', ',', 'and', 'when', 'frequency', 'is', '350', 'mhz', '?']\n",
            "Ground truth Query- ['SELECT', 'model', 'number', 'FROM', 'table_', 'WHERE', 'voltage', 'EQL', '2.0v', 'AND', 'frequency', 'EQL', '350', 'mhz']\n",
            "Generated Query- SELECT model FROM table_ WHERE WHERE EQL SOS SOS SOS SOS SOS SOS AND <EOS>\n",
            "\n",
            "English Question- ['what', 'was', 'the', 'best', 'bowling', 'score', 'when', 'the', 'average', 'was', '23.33', '?']\n",
            "Ground truth Query- ['SELECT', 'best', 'bowling', 'FROM', 'table_', 'WHERE', 'average', 'EQL', '23.33']\n",
            "Generated Query- SELECT best FROM table_ WHERE average EQL SOS SOS <EOS>\n",
            "\n",
            "English Question- ['what', 'is', 'the', '2fm', 'for', 'rnag', '94.4', '?']\n",
            "Ground truth Query- ['SELECT', '2fm', '(', 'mhz', ')', 'FROM', 'table_', 'WHERE', 'rnag', '(', 'mhz', ')', 'EQL', '94.4']\n",
            "Generated Query- SELECT SOS FROM table_ WHERE SOS EQL SOS <EOS>\n",
            "\n",
            "English Question- ['what', 'happened', 'in', 'week', '12', 'when', 'week', '13', 'resulted', 'in', 'tennessee', '(', '9-1', ')', '?']\n",
            "Ground truth Query- ['SELECT', 'week', '12', 'nov', '19', 'FROM', 'table_', 'WHERE', 'week', '13', 'nov', '26', 'EQL', 'tennessee', '(', '9-1', ')']\n",
            "Generated Query- SELECT avg ( week ) FROM table_ WHERE week EQL 3 AND week EQL 3 <EOS>\n",
            "\n",
            "English Question- ['which', 'candidate', 'won', '61.47', '%', 'of', 'the', 'votes', '?']\n",
            "Ground truth Query- ['SELECT', 'candidate', 'FROM', 'table_', 'WHERE', 'share', 'of', 'votes', 'EQL', '61.47', '%']\n",
            "Generated Query- SELECT % FROM table_ WHERE % EQL % % <EOS>\n",
            "\n",
            "English Question- ['what', 'is', 'the', 'years', 'for', 'engin', '5.7l', 'hemi', 'v8', '?']\n",
            "Ground truth Query- ['SELECT', 'years', 'FROM', 'table_', 'WHERE', 'engine', 'EQL', '5.7l', 'hemi', 'v8']\n",
            "Generated Query- SELECT years FROM table_ WHERE SOS EQL SOS SOS <EOS>\n",
            "\n",
            "English Question- ['how', 'many', 'bronze', 'medals', 'were', 'received', 'by', 'the', 'nation', 'that', 'ranked', 'less', 'than', '5', 'and', 'received', 'more', 'than', '2', 'gold', 'medals', ',', 'less', 'than', '4', 'silver', 'medals', 'with', 'a', 'total', 'of', '9', 'medals', '?']\n",
            "Ground truth Query- ['SELECT', 'avg', '(', 'bronze', ')', 'FROM', 'table_', 'WHERE', 'rank', 'LT', '5', 'AND', 'gold', 'GT', '2', 'AND', 'total', 'EQL', '9', 'AND', 'silver', 'LT', '4']\n",
            "Generated Query- SELECT COUNT ( bronze ) FROM table_ WHERE rank EQL 5 AND silver GT 5 AND silver LT 5 <EOS>\n",
            "\n",
            "English Question- ['when', '3t7458', 'is', 'the', 'production', 'code', 'who', 'are', 'the', 'writers', '?']\n",
            "Ground truth Query- ['SELECT', 'written', 'by', 'FROM', 'table_', 'WHERE', 'production', 'code', 'EQL', '3t7458']\n",
            "Generated Query- SELECT COUNT ( original by ) FROM table_ WHERE production code EQL SOS <EOS>\n",
            "\n",
            "English Question- ['with', 'less', 'than', '7', 'silver', 'medals', ',', 'how', 'many', 'gold', 'medals', 'did', 'canada', 'receive', '?']\n",
            "Ground truth Query- ['SELECT', 'max', '(', 'gold', ')', 'FROM', 'table_', 'WHERE', 'nation', 'EQL', 'canada', 'AND', 'silver', 'LT', '7']\n",
            "Generated Query- SELECT avg ( total ) FROM table_ WHERE rank EQL 3 AND silver LT 3 <EOS>\n",
            "\n",
            "English Question- ['what', 'is', 'the', 'hardness', 'for', 'the', 'alloy', 'that', 'is', 'liquid', 'at', '243', 'degrees', 'c', '?']\n",
            "Ground truth Query- ['SELECT', 'hardness', 'FROM', 'table_', 'WHERE', 'liquid', 'at', '(', '°c', ')', 'EQL', '243']\n",
            "Generated Query- SELECT site FROM table_ WHERE WHERE EQL EQL SOS SOS SOS SOS <EOS>\n",
            "\n",
            "English Question- ['what', 'is', 'game', '9', \"'s\", 'record', '?']\n",
            "Ground truth Query- ['SELECT', 'record', 'FROM', 'table_', 'WHERE', 'game', 'EQL', '9']\n",
            "Generated Query- SELECT record FROM table_ WHERE record EQL 1-1 <EOS>\n",
            "\n",
            "English Question- ['name', 'the', 'sum', 'of', 'points', 'for', '1984']\n",
            "Ground truth Query- ['SELECT', 'sum', '(', 'points', ')', 'FROM', 'table_', 'WHERE', 'year', 'LT', '1984']\n",
            "Generated Query- SELECT points FROM table_ WHERE points EQL EQL <EOS>\n",
            "\n",
            "English Question- ['what', 'is', 'the', 'french', 'word', 'where', 'the', 'german', 'word', 'is', 'filtern', '?']\n",
            "Ground truth Query- ['SELECT', 'french', 'FROM', 'table_', 'WHERE', 'german', 'EQL', 'filtern']\n",
            "Generated Query- SELECT type FROM table_ WHERE country EQL SOS <EOS>\n",
            "\n",
            "English Question- ['how', 'many', 'games', 'were', 'played', 'against', 'the', 'chicago', 'bears', '?']\n",
            "Ground truth Query- ['SELECT', 'COUNT', '(', 'record', ')', 'FROM', 'table_', 'WHERE', 'opponent', 'EQL', 'chicago', 'bears']\n",
            "Generated Query- SELECT COUNT ( table_ ) FROM table_ WHERE team EQL EQL <EOS>\n",
            "\n",
            "English Question- ['what', 'is', 'the', 'sum', 'of', 'the', 'total', 'of', 'the', 'player', 'who', 'won', 'in', '1979', '?']\n",
            "Ground truth Query- ['SELECT', 'sum', '(', 'total', ')', 'FROM', 'table_', 'WHERE', 'year', '(', 's', ')', 'won', 'EQL', '1979']\n",
            "Generated Query- SELECT sum ( total ) FROM table_ WHERE player EQL north <EOS>\n",
            "\n",
            "English Question- ['what', 'is', 'segment', 'c', 'in', 's07e05']\n",
            "Ground truth Query- ['SELECT', 'segment', 'c', 'FROM', 'table_', 'WHERE', 'netflix', 'EQL', 's07e05']\n",
            "Generated Query- SELECT SOS FROM FROM table_ WHERE WHERE EQL SOS SOS SOS <EOS>\n",
            "\n",
            "English Question- ['on', 'october', '24', ',', 'who', 'played', 'at', 'home', 'when', 'there', 'was', 'a', 'decision', 'of', 'ward', '?']\n",
            "Ground truth Query- ['SELECT', 'home', 'FROM', 'table_', 'WHERE', 'decision', 'EQL', 'ward', 'AND', 'date', 'EQL', 'october', '24']\n",
            "Generated Query- SELECT visitor FROM table_ WHERE home EQL EQL AND AND EQL <EOS>\n",
            "\n",
            "English Question- ['how', 'many', 'episodes', 'originally', 'aired', 'on', 'august', '31', ',', '1995', '?']\n",
            "Ground truth Query- ['SELECT', 'COUNT', '(', 'title', ')', 'FROM', 'table_', 'WHERE', 'original', 'air', 'date', 'EQL', 'august', '31', ',', '1995']\n",
            "Generated Query- SELECT COUNT ( date table_ WHERE WHERE date EQL december 8 <EOS>\n",
            "\n",
            "English Question- ['when', 'the', 'new', 'orleans', 'saints', 'were', 'visiting', 'texas', 'stadium', ',', 'what', 'was', 'the', 'final', 'score', '?']\n",
            "Ground truth Query- ['SELECT', 'final', 'score', 'FROM', 'table_', 'WHERE', 'stadium', 'EQL', 'texas', 'stadium', 'AND', 'visiting', 'team', 'EQL', 'new', 'orleans', 'saints']\n",
            "Generated Query- SELECT final final FROM table_ WHERE opponent EQL EQL AND date EQL EQL 2–6 <EOS>\n"
          ],
          "name": "stdout"
        }
      ]
    },
    {
      "cell_type": "markdown",
      "metadata": {
        "id": "Xik2SBj48dlU"
      },
      "source": [
        "Reference:\n",
        "https://pytorch.org/tutorials/intermediate/seq2seq_translation_tutorial.html"
      ]
    }
  ]
}