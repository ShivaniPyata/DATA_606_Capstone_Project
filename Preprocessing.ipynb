{
  "nbformat": 4,
  "nbformat_minor": 0,
  "metadata": {
    "colab": {
      "name": "DATA606_Preprocessing.ipynb",
      "provenance": [],
      "collapsed_sections": [],
      "authorship_tag": "ABX9TyPUH/dJIaGgasFo6GvA0eJM"
    },
    "kernelspec": {
      "name": "python3",
      "display_name": "Python 3"
    },
    "language_info": {
      "name": "python"
    }
  },
  "cells": [
    {
      "cell_type": "markdown",
      "metadata": {
        "id": "41nfEFBYaBlM"
      },
      "source": [
        "#**<center>Natural Language Text to SQL Query Conversion**"
      ]
    },
    {
      "cell_type": "code",
      "metadata": {
        "colab": {
          "base_uri": "https://localhost:8080/"
        },
        "id": "UqWmXmu9L_SV",
        "outputId": "4d7e8d29-a7d1-4239-ffac-4a554c4dfb9c"
      },
      "source": [
        "import nltk\n",
        "nltk.download('punkt')"
      ],
      "execution_count": 2,
      "outputs": [
        {
          "output_type": "stream",
          "text": [
            "[nltk_data] Downloading package punkt to /root/nltk_data...\n",
            "[nltk_data]   Unzipping tokenizers/punkt.zip.\n"
          ],
          "name": "stdout"
        },
        {
          "output_type": "execute_result",
          "data": {
            "text/plain": [
              "True"
            ]
          },
          "metadata": {
            "tags": []
          },
          "execution_count": 2
        }
      ]
    },
    {
      "cell_type": "code",
      "metadata": {
        "colab": {
          "base_uri": "https://localhost:8080/"
        },
        "id": "kbbabh38IAZ2",
        "outputId": "a342b1ff-a455-4c12-b655-7bfdee3262bc"
      },
      "source": [
        "pip install records"
      ],
      "execution_count": 3,
      "outputs": [
        {
          "output_type": "stream",
          "text": [
            "Collecting records\n",
            "  Downloading https://files.pythonhosted.org/packages/ef/93/2467c761ea3729713ab97842a46cc125ad09d14a0a174cb637bee4983911/records-0.5.3-py2.py3-none-any.whl\n",
            "Requirement already satisfied: docopt in /usr/local/lib/python3.7/dist-packages (from records) (0.6.2)\n",
            "Collecting openpyxl<2.5.0\n",
            "\u001b[?25l  Downloading https://files.pythonhosted.org/packages/77/26/0bd1a39776f53b4f28e5bb1d26b3fcd99068584a7e1ddca4e09c0d5fd592/openpyxl-2.4.11.tar.gz (158kB)\n",
            "\u001b[K     |████████████████████████████████| 163kB 6.7MB/s \n",
            "\u001b[?25hRequirement already satisfied: SQLAlchemy; python_version >= \"3.0\" in /usr/local/lib/python3.7/dist-packages (from records) (1.4.7)\n",
            "Collecting tablib>=0.11.4\n",
            "\u001b[?25l  Downloading https://files.pythonhosted.org/packages/16/85/078fc037b15aa1120d6a0287ec9d092d93d632ab01a0e7a3e69b4733da5e/tablib-3.0.0-py3-none-any.whl (47kB)\n",
            "\u001b[K     |████████████████████████████████| 51kB 5.8MB/s \n",
            "\u001b[?25hRequirement already satisfied: jdcal in /usr/local/lib/python3.7/dist-packages (from openpyxl<2.5.0->records) (1.4.1)\n",
            "Requirement already satisfied: et_xmlfile in /usr/local/lib/python3.7/dist-packages (from openpyxl<2.5.0->records) (1.0.1)\n",
            "Requirement already satisfied: greenlet!=0.4.17; python_version >= \"3\" in /usr/local/lib/python3.7/dist-packages (from SQLAlchemy; python_version >= \"3.0\"->records) (1.0.0)\n",
            "Requirement already satisfied: importlib-metadata; python_version < \"3.8\" in /usr/local/lib/python3.7/dist-packages (from SQLAlchemy; python_version >= \"3.0\"->records) (3.10.1)\n",
            "Requirement already satisfied: zipp>=0.5 in /usr/local/lib/python3.7/dist-packages (from importlib-metadata; python_version < \"3.8\"->SQLAlchemy; python_version >= \"3.0\"->records) (3.4.1)\n",
            "Requirement already satisfied: typing-extensions>=3.6.4; python_version < \"3.8\" in /usr/local/lib/python3.7/dist-packages (from importlib-metadata; python_version < \"3.8\"->SQLAlchemy; python_version >= \"3.0\"->records) (3.7.4.3)\n",
            "Building wheels for collected packages: openpyxl\n",
            "  Building wheel for openpyxl (setup.py) ... \u001b[?25l\u001b[?25hdone\n",
            "  Created wheel for openpyxl: filename=openpyxl-2.4.11-py2.py3-none-any.whl size=222821 sha256=30f281cd0beabd757c64903de7d3f67f70a009f5b83d80b64c2340c03c89093e\n",
            "  Stored in directory: /root/.cache/pip/wheels/59/44/27/63b211425501ad51d197ff8ed00e9e469e38b9e516cb69b1c2\n",
            "Successfully built openpyxl\n",
            "Installing collected packages: openpyxl, tablib, records\n",
            "  Found existing installation: openpyxl 2.5.9\n",
            "    Uninstalling openpyxl-2.5.9:\n",
            "      Successfully uninstalled openpyxl-2.5.9\n",
            "Successfully installed openpyxl-2.4.11 records-0.5.3 tablib-3.0.0\n"
          ],
          "name": "stdout"
        }
      ]
    },
    {
      "cell_type": "code",
      "metadata": {
        "colab": {
          "base_uri": "https://localhost:8080/"
        },
        "id": "fU7zE5dpH4pU",
        "outputId": "ea7508da-3be1-4a72-ca8a-00789c9b173b"
      },
      "source": [
        "from tqdm.autonotebook import tqdm\n",
        "\n",
        "import numpy as np\n",
        "import pandas as pd\n",
        "import records\n",
        "import seaborn as sns\n",
        "import matplotlib\n",
        "import matplotlib.pyplot as plt\n",
        "import matplotlib.ticker as ticker\n",
        "from PIL import Image\n",
        "from wordcloud import WordCloud, STOPWORDS\n",
        "import json\n",
        "import time\n",
        "import unicodedata\n",
        "from nltk.tokenize import word_tokenize\n",
        "\n",
        "from __future__ import unicode_literals, print_function, division\n",
        "\n",
        "from collections import defaultdict\n",
        "from io import open\n",
        "from __future__ import unicode_literals, print_function, division"
      ],
      "execution_count": 4,
      "outputs": [
        {
          "output_type": "stream",
          "text": [
            "/usr/local/lib/python3.7/dist-packages/ipykernel_launcher.py:1: TqdmExperimentalWarning: Using `tqdm.autonotebook.tqdm` in notebook mode. Use `tqdm.tqdm` instead to force console mode (e.g. in jupyter console)\n",
            "  \"\"\"Entry point for launching an IPython kernel.\n"
          ],
          "name": "stderr"
        }
      ]
    },
    {
      "cell_type": "code",
      "metadata": {
        "colab": {
          "base_uri": "https://localhost:8080/"
        },
        "id": "S-zdoL2DH9iJ",
        "outputId": "8fd4cc0e-f28c-4cf3-a418-d4e9079caa60"
      },
      "source": [
        "import torch\n",
        "import torch.nn as nn\n",
        "import torch.nn.functional as F\n",
        "from torch.utils.data import * \n",
        "from torch.autograd import Variable\n",
        "from torch import optim\n",
        "from torchsummary import summary\n",
        "\n",
        "from google.colab import drive\n",
        "drive.mount('/content/drive/')"
      ],
      "execution_count": 5,
      "outputs": [
        {
          "output_type": "stream",
          "text": [
            "Mounted at /content/drive/\n"
          ],
          "name": "stdout"
        }
      ]
    },
    {
      "cell_type": "code",
      "metadata": {
        "id": "IVHRM3NsIffu"
      },
      "source": [
        "import os\n",
        "import sys\n",
        "sys.path.append('/content/drive/MyDrive/lib/')"
      ],
      "execution_count": 7,
      "outputs": []
    },
    {
      "cell_type": "code",
      "metadata": {
        "id": "Pg2BOzE5Iina"
      },
      "source": [
        "from lib_db import *"
      ],
      "execution_count": 8,
      "outputs": []
    },
    {
      "cell_type": "markdown",
      "metadata": {
        "id": "Jt587n7PaHUR"
      },
      "source": [
        "###**Creating Required directories**"
      ]
    },
    {
      "cell_type": "code",
      "metadata": {
        "colab": {
          "base_uri": "https://localhost:8080/"
        },
        "id": "8BBL_deqIpSA",
        "outputId": "a91a09f7-d7d5-4b7a-9af3-81dec6c709f2"
      },
      "source": [
        "\"\"\"functions for directory creation\"\"\"\n",
        "def dir_exists(directory):\n",
        "    \"\"\"\n",
        "    Checks if 'directory' exists\n",
        "    \"\"\"\n",
        "    return(os.path.isdir(directory))\n",
        "\n",
        "def create_dir(directory):\n",
        "    \"\"\"\n",
        "    Create directory\n",
        "    \"\"\"\n",
        "    if not dir_exists(directory):\n",
        "        os.mkdir(directory)\n",
        "        print(\"Directory %s created successfully.\" %directory)\n",
        "    else:\n",
        "        print(\"Directory %s exists.\" %directory)\n",
        "\n",
        "print(\"We are in:\",os.getcwd())\n",
        "\n",
        "\"\"\"\n",
        "Required directory creation\n",
        "\"\"\"\n",
        "project_dir=\"/content/drive/MyDrive/Data606_finalproject\"\n",
        "create_dir(project_dir)\n",
        "\n",
        "\n",
        "project_data_dir = project_dir + \"/data/\"\n",
        "create_dir(project_data_dir)\n",
        "\n",
        "project_result_dir = project_dir + \"/output/\"\n",
        "create_dir(project_result_dir)\n",
        "\n",
        "project_checkpoint_dir = project_dir + \"/project_Checkpoint/\"\n",
        "create_dir(project_checkpoint_dir)\n",
        "\n",
        "print(project_data_dir)"
      ],
      "execution_count": 9,
      "outputs": [
        {
          "output_type": "stream",
          "text": [
            "We are in: /content\n",
            "Directory /content/drive/MyDrive/Data606_finalproject exists.\n",
            "Directory /content/drive/MyDrive/Data606_finalproject/data/ exists.\n",
            "Directory /content/drive/MyDrive/Data606_finalproject/output/ exists.\n",
            "Directory /content/drive/MyDrive/Data606_finalproject/project_Checkpoint/ exists.\n",
            "/content/drive/MyDrive/Data606_finalproject/data/\n"
          ],
          "name": "stdout"
        }
      ]
    },
    {
      "cell_type": "markdown",
      "metadata": {
        "id": "LBhE_utDaWWZ"
      },
      "source": [
        "###**Listing files in Directories**"
      ]
    },
    {
      "cell_type": "code",
      "metadata": {
        "colab": {
          "base_uri": "https://localhost:8080/"
        },
        "id": "b6We0shsIpVJ",
        "outputId": "9932c49c-a2cb-4b73-88d4-8322ea6d8ab4"
      },
      "source": [
        "def list_dir(dir_path):\n",
        "  \"\"\"\n",
        "  List directories for a given path\n",
        "  \"\"\"\n",
        "  print(\"Directory %s contains : \" %dir_path)\n",
        "  for dir_or_file in os.listdir(dir_path):\n",
        "    print(dir_or_file)\n",
        "  print(\"\\n\")\n",
        "\n",
        "\"\"\"\n",
        "List created directories\n",
        "\"\"\"\n",
        "print('Current directory : ', os.getcwd(),'\\n')\n",
        "list_dir(project_dir)\n",
        "list_dir(project_data_dir)\n",
        "list_dir(project_checkpoint_dir)"
      ],
      "execution_count": 10,
      "outputs": [
        {
          "output_type": "stream",
          "text": [
            "Current directory :  /content \n",
            "\n",
            "Directory /content/drive/MyDrive/Data606_finalproject contains : \n",
            "data\n",
            "output\n",
            "project_Checkpoint\n",
            "saved_model\n",
            "Data606_Project_preprocess.ipynb\n",
            "\n",
            "\n",
            "Directory /content/drive/MyDrive/Data606_finalproject/data/ contains : \n",
            "test.tables.jsonl\n",
            "dev.tables.jsonl\n",
            "train.tables.jsonl\n",
            "dev.db\n",
            "train.db\n",
            "test.db\n",
            "train.jsonl\n",
            "dev.jsonl\n",
            "test.jsonl\n",
            "glove.6B.300d.txt\n",
            "glove.6B.100d.txt\n",
            "\n",
            "\n",
            "Directory /content/drive/MyDrive/Data606_finalproject/project_Checkpoint/ contains : \n",
            "\n",
            "\n"
          ],
          "name": "stdout"
        }
      ]
    },
    {
      "cell_type": "code",
      "metadata": {
        "colab": {
          "base_uri": "https://localhost:8080/",
          "height": 204
        },
        "id": "v9-I6BbRJCRu",
        "outputId": "0a87cf67-1abc-4d6b-c4d4-269072f72a6d"
      },
      "source": [
        "train_data = pd.read_json('/content/drive/MyDrive/Data606_finalproject/data/train.jsonl', lines=True )\n",
        "\n",
        "train_data.head()"
      ],
      "execution_count": 11,
      "outputs": [
        {
          "output_type": "execute_result",
          "data": {
            "text/html": [
              "<div>\n",
              "<style scoped>\n",
              "    .dataframe tbody tr th:only-of-type {\n",
              "        vertical-align: middle;\n",
              "    }\n",
              "\n",
              "    .dataframe tbody tr th {\n",
              "        vertical-align: top;\n",
              "    }\n",
              "\n",
              "    .dataframe thead th {\n",
              "        text-align: right;\n",
              "    }\n",
              "</style>\n",
              "<table border=\"1\" class=\"dataframe\">\n",
              "  <thead>\n",
              "    <tr style=\"text-align: right;\">\n",
              "      <th></th>\n",
              "      <th>phase</th>\n",
              "      <th>table_id</th>\n",
              "      <th>question</th>\n",
              "      <th>sql</th>\n",
              "    </tr>\n",
              "  </thead>\n",
              "  <tbody>\n",
              "    <tr>\n",
              "      <th>0</th>\n",
              "      <td>1</td>\n",
              "      <td>1-1000181-1</td>\n",
              "      <td>Tell me what the notes are for South Australia</td>\n",
              "      <td>{'sel': 5, 'conds': [[3, 0, 'SOUTH AUSTRALIA']...</td>\n",
              "    </tr>\n",
              "    <tr>\n",
              "      <th>1</th>\n",
              "      <td>1</td>\n",
              "      <td>1-1000181-1</td>\n",
              "      <td>What is the current series where the new serie...</td>\n",
              "      <td>{'sel': 4, 'conds': [[5, 0, 'New series began ...</td>\n",
              "    </tr>\n",
              "    <tr>\n",
              "      <th>2</th>\n",
              "      <td>1</td>\n",
              "      <td>1-1000181-1</td>\n",
              "      <td>What is the format for South Australia?</td>\n",
              "      <td>{'sel': 2, 'conds': [[0, 0, 'South Australia']...</td>\n",
              "    </tr>\n",
              "    <tr>\n",
              "      <th>3</th>\n",
              "      <td>1</td>\n",
              "      <td>1-1000181-1</td>\n",
              "      <td>Name the background colour for the Australian ...</td>\n",
              "      <td>{'sel': 1, 'conds': [[0, 0, 'Australian Capita...</td>\n",
              "    </tr>\n",
              "    <tr>\n",
              "      <th>4</th>\n",
              "      <td>1</td>\n",
              "      <td>1-10007452-3</td>\n",
              "      <td>how many times is the fuel propulsion is cng?</td>\n",
              "      <td>{'sel': 3, 'conds': [[5, 0, 'CNG']], 'agg': 3}</td>\n",
              "    </tr>\n",
              "  </tbody>\n",
              "</table>\n",
              "</div>"
            ],
            "text/plain": [
              "   phase  ...                                                sql\n",
              "0      1  ...  {'sel': 5, 'conds': [[3, 0, 'SOUTH AUSTRALIA']...\n",
              "1      1  ...  {'sel': 4, 'conds': [[5, 0, 'New series began ...\n",
              "2      1  ...  {'sel': 2, 'conds': [[0, 0, 'South Australia']...\n",
              "3      1  ...  {'sel': 1, 'conds': [[0, 0, 'Australian Capita...\n",
              "4      1  ...     {'sel': 3, 'conds': [[5, 0, 'CNG']], 'agg': 3}\n",
              "\n",
              "[5 rows x 4 columns]"
            ]
          },
          "metadata": {
            "tags": []
          },
          "execution_count": 11
        }
      ]
    },
    {
      "cell_type": "code",
      "metadata": {
        "colab": {
          "base_uri": "https://localhost:8080/"
        },
        "id": "fNtwkWrMJIRE",
        "outputId": "c0c39feb-199c-4732-c4f8-5a4b529aa217"
      },
      "source": [
        "len(train_data)"
      ],
      "execution_count": 12,
      "outputs": [
        {
          "output_type": "execute_result",
          "data": {
            "text/plain": [
              "56355"
            ]
          },
          "metadata": {
            "tags": []
          },
          "execution_count": 12
        }
      ]
    },
    {
      "cell_type": "code",
      "metadata": {
        "colab": {
          "base_uri": "https://localhost:8080/"
        },
        "id": "qhZCwPxZJMFv",
        "outputId": "40dd027e-6e13-4b0e-8719-cdbb90f56250"
      },
      "source": [
        "dev_data = pd.read_json('/content/drive/MyDrive/Data606_finalproject/data/dev.jsonl', lines=True )\n",
        "len(dev_data)"
      ],
      "execution_count": 13,
      "outputs": [
        {
          "output_type": "execute_result",
          "data": {
            "text/plain": [
              "8421"
            ]
          },
          "metadata": {
            "tags": []
          },
          "execution_count": 13
        }
      ]
    },
    {
      "cell_type": "code",
      "metadata": {
        "colab": {
          "base_uri": "https://localhost:8080/"
        },
        "id": "nZVMZgYSJTiC",
        "outputId": "23c307bf-5b1f-41e5-c8d6-40fd5f50543d"
      },
      "source": [
        "test_data = pd.read_json('/content/drive/MyDrive/Data606_finalproject/data/test.jsonl', lines=True )\n",
        "len(test_data)"
      ],
      "execution_count": 14,
      "outputs": [
        {
          "output_type": "execute_result",
          "data": {
            "text/plain": [
              "15878"
            ]
          },
          "metadata": {
            "tags": []
          },
          "execution_count": 14
        }
      ]
    },
    {
      "cell_type": "code",
      "metadata": {
        "colab": {
          "base_uri": "https://localhost:8080/",
          "height": 289
        },
        "id": "XLL0If2CJX5p",
        "outputId": "a4294c2d-1bcf-4806-87f0-5168957e0263"
      },
      "source": [
        "train_tables_data = pd.read_json('/content/drive/MyDrive/Data606_finalproject/data/train.tables.jsonl', lines=True )\n",
        "\n",
        "train_tables_data.head()"
      ],
      "execution_count": 15,
      "outputs": [
        {
          "output_type": "execute_result",
          "data": {
            "text/html": [
              "<div>\n",
              "<style scoped>\n",
              "    .dataframe tbody tr th:only-of-type {\n",
              "        vertical-align: middle;\n",
              "    }\n",
              "\n",
              "    .dataframe tbody tr th {\n",
              "        vertical-align: top;\n",
              "    }\n",
              "\n",
              "    .dataframe thead th {\n",
              "        text-align: right;\n",
              "    }\n",
              "</style>\n",
              "<table border=\"1\" class=\"dataframe\">\n",
              "  <thead>\n",
              "    <tr style=\"text-align: right;\">\n",
              "      <th></th>\n",
              "      <th>id</th>\n",
              "      <th>header</th>\n",
              "      <th>types</th>\n",
              "      <th>rows</th>\n",
              "      <th>name</th>\n",
              "      <th>page_title</th>\n",
              "      <th>section_title</th>\n",
              "      <th>caption</th>\n",
              "      <th>page_id</th>\n",
              "    </tr>\n",
              "  </thead>\n",
              "  <tbody>\n",
              "    <tr>\n",
              "      <th>0</th>\n",
              "      <td>1-1000181-1</td>\n",
              "      <td>[State/territory, Text/background colour, Form...</td>\n",
              "      <td>[text, text, text, text, text, text]</td>\n",
              "      <td>[[Australian Capital Territory, blue/white, Ya...</td>\n",
              "      <td>table_1000181_1</td>\n",
              "      <td>NaN</td>\n",
              "      <td>NaN</td>\n",
              "      <td>NaN</td>\n",
              "      <td>NaN</td>\n",
              "    </tr>\n",
              "    <tr>\n",
              "      <th>1</th>\n",
              "      <td>1-10006830-1</td>\n",
              "      <td>[Aircraft, Description, Max Gross Weight, Tota...</td>\n",
              "      <td>[text, text, text, text, text]</td>\n",
              "      <td>[[Robinson R-22, Light utility helicopter, 1,3...</td>\n",
              "      <td>table_10006830_1</td>\n",
              "      <td>Disk loading</td>\n",
              "      <td>Examples</td>\n",
              "      <td>Disk loading comparison</td>\n",
              "      <td>NaN</td>\n",
              "    </tr>\n",
              "    <tr>\n",
              "      <th>2</th>\n",
              "      <td>1-10007452-3</td>\n",
              "      <td>[Order Year, Manufacturer, Model, Fleet Series...</td>\n",
              "      <td>[text, text, text, text, text, text]</td>\n",
              "      <td>[[1992-93, Gillig, Phantom (High Floor), 444-4...</td>\n",
              "      <td>table_10007452_3</td>\n",
              "      <td>Torrance Transit</td>\n",
              "      <td>Fleet</td>\n",
              "      <td>Fleet</td>\n",
              "      <td>NaN</td>\n",
              "    </tr>\n",
              "    <tr>\n",
              "      <th>3</th>\n",
              "      <td>1-10015132-1</td>\n",
              "      <td>[Player, No., Nationality, Position, Years in ...</td>\n",
              "      <td>[text, text, text, text, text, text]</td>\n",
              "      <td>[[Quincy Acy, 4, United States, Forward, 2012-...</td>\n",
              "      <td>table_10015132_1</td>\n",
              "      <td>Toronto Raptors all-time roster</td>\n",
              "      <td>A</td>\n",
              "      <td>A</td>\n",
              "      <td>NaN</td>\n",
              "    </tr>\n",
              "    <tr>\n",
              "      <th>4</th>\n",
              "      <td>1-10015132-14</td>\n",
              "      <td>[Player, No., Nationality, Position, Years in ...</td>\n",
              "      <td>[text, real, text, text, text, text]</td>\n",
              "      <td>[[Patrick O'Bryant, 13, United States, Center,...</td>\n",
              "      <td>table_10015132_14</td>\n",
              "      <td>Toronto Raptors all-time roster</td>\n",
              "      <td>O</td>\n",
              "      <td>O</td>\n",
              "      <td>NaN</td>\n",
              "    </tr>\n",
              "  </tbody>\n",
              "</table>\n",
              "</div>"
            ],
            "text/plain": [
              "              id  ... page_id\n",
              "0    1-1000181-1  ...     NaN\n",
              "1   1-10006830-1  ...     NaN\n",
              "2   1-10007452-3  ...     NaN\n",
              "3   1-10015132-1  ...     NaN\n",
              "4  1-10015132-14  ...     NaN\n",
              "\n",
              "[5 rows x 9 columns]"
            ]
          },
          "metadata": {
            "tags": []
          },
          "execution_count": 15
        }
      ]
    },
    {
      "cell_type": "markdown",
      "metadata": {
        "id": "PC4jj03Wab19"
      },
      "source": [
        "###**Text Preprocessing**"
      ]
    },
    {
      "cell_type": "code",
      "metadata": {
        "id": "yjSjCapIJh2a"
      },
      "source": [
        "class textconversion:\n",
        "    \"\"\"Class is responsible for converting all the sql structured output to plain text sql queries\"\"\"\n",
        "\n",
        "    def __init__(self):\n",
        "        self.table_map = {}  # key is table_id, value is all the table data\n",
        "\n",
        "    def build_table_mapping(self, dataset):\n",
        "        \"\"\"Reads the tables file and creates a dictionary with table id as key and all other data as value\"\"\"\n",
        "        tables = pd.read_json(\"/content/drive/MyDrive/Data606_finalproject/data/\" + dataset + \".tables.jsonl\", lines=True)\n",
        "        data = pd.DataFrame()\n",
        "        for index, line in tables.iterrows():  \n",
        "            self.table_map[line[\"id\"]] = line\n",
        "            line[\"tokenized_header\"] = []\n",
        "            for column_header in line[\"header\"]:\n",
        "                line[\"tokenized_header\"].append(self.tokenize_document(column_header))\n",
        "            line_df = pd.DataFrame(line)\n",
        "            line_df = line_df.transpose()\n",
        "            data = data.append(line_df)\n",
        "        self.save_dataframe(data, \"/content/drive/MyDrive/Data606_finalproject/output/tokenized_\" + dataset + \".tables.jsonl\")\n",
        "\n",
        "    def get_query_from_json(self, json_line):\n",
        "        \"\"\"Returns a Query object and table object for the json input\"\"\"\n",
        "        q = Query.from_dict(json_line[\"sql\"])\n",
        "        t_id = json_line[\"table_id\"]\n",
        "        table = self.table_map[t_id]\n",
        "        t = Table(\"\", table[\"header\"], table[\"types\"], table[\"rows\"])\n",
        "        return t, q\n",
        "\n",
        "    @staticmethod\n",
        "    def execute_query(table, query):\n",
        "        \"\"\"Executes a query on the sqlite training database for testing\"\"\"\n",
        "        db = records.Database('sqlite:///../data/train.db')\n",
        "        conn = db.get_connection()\n",
        "        query, result = table.execute_query(conn, query)\n",
        "        conn.close()\n",
        "        print(query, result)\n",
        "\n",
        "    @staticmethod\n",
        "    def tokenize_document(doc, print_token = False):\n",
        "        operators = {'=' : 'EQL', '>' : 'GT', '<' : 'LT'}\n",
        "        syntax_tokens = [\"SELECT\", \"COUNT\", \"WHERE\", \"AND\", \"OR\", \"FROM\"]\n",
        "        tokens = nltk.word_tokenize(doc)\n",
        "        for i in range(len(tokens)):\n",
        "            if tokens[i] in syntax_tokens:\n",
        "                continue\n",
        "            if tokens[i] in operators.keys():\n",
        "                tokens[i] = operators[tokens[i]]\n",
        "            else:\n",
        "                tokens[i] = tokens[i].lower()\n",
        "        return tokens\n",
        "\n",
        "    @staticmethod\n",
        "    def save_dataframe(data, filename):\n",
        "        data.to_json(filename, orient='records', lines=True)\n",
        "\n",
        "\n",
        "    def build_tokenized_dataset(self, dataset):\n",
        "        \"\"\"Reads the input training files and generates a new file containing plain text sql queries\"\"\"\n",
        "        self.build_table_mapping(dataset) #creates a dictionary with table id as key and all other data as value\n",
        "        \n",
        "        queries = pd.read_json(\"/content/drive/MyDrive/Data606_finalproject/data/\" + dataset + \".jsonl\", lines=True)\n",
        "\n",
        "        count = 0\n",
        "        stop_limit = len(queries)\n",
        "        data = pd.DataFrame()\n",
        "\n",
        "        # stop_limit = 10\n",
        "        # iterate over the queries and convert each one to plain text sql\n",
        "        for index, line in queries.iterrows(): \n",
        "            count += 1\n",
        "            # get table and query representations\n",
        "            table, query = self.get_query_from_json(line)\n",
        "            \n",
        "            # append query to dict, to add it to the datafram\n",
        "            query_str = table.query_str(query)\n",
        "\n",
        "            # Tokenize the query\n",
        "            tokenized_query = self.tokenize_document(query_str, print_token = True)\n",
        "            line[\"tokenized_query\"] = tokenized_query\n",
        "            \n",
        "            # Fix the formatting of the query (lowercase + Uppercase syntax tokens)\n",
        "            line[\"query\"] = \" \".join(tokenized_query)\n",
        "            \n",
        "            # Tokenize the question\n",
        "            tokenized_question = self.tokenize_document(line[\"question\"])\n",
        "            line[\"tokenized_question\"] = tokenized_question\n",
        "\n",
        "            line_df = pd.DataFrame(line)\n",
        "            line_df = line_df.transpose()\n",
        "            data = data.append(line_df)\n",
        "\n",
        "            if count > stop_limit:\n",
        "                break\n",
        "        \n",
        "        # Save dataframe to file\n",
        "        self.save_dataframe(data, \"/content/drive/MyDrive/Data606_finalproject/output/tokenized_\" + dataset + \".jsonl\")"
      ],
      "execution_count": 24,
      "outputs": []
    },
    {
      "cell_type": "code",
      "metadata": {
        "id": "AbwG3KlmJh47"
      },
      "source": [
        "text_converter = textconversion()\n",
        "text_converter.build_tokenized_dataset(\"train\")\n",
        "text_converter.build_tokenized_dataset(\"dev\")\n",
        "text_converter.build_tokenized_dataset(\"test\")"
      ],
      "execution_count": 18,
      "outputs": []
    },
    {
      "cell_type": "code",
      "metadata": {
        "colab": {
          "base_uri": "https://localhost:8080/",
          "height": 306
        },
        "id": "2k7pdlj8PKvS",
        "outputId": "36b276ab-61ce-4068-f3a8-dc7113f401a7"
      },
      "source": [
        "train_tokenized_data = pd.read_json('/content/drive/MyDrive/Data606_finalproject/output/tokenized_train.jsonl', lines=True )\n",
        "train_df = train_tokenized_data\n",
        "train_tokenized_data.head()"
      ],
      "execution_count": 19,
      "outputs": [
        {
          "output_type": "execute_result",
          "data": {
            "text/html": [
              "<div>\n",
              "<style scoped>\n",
              "    .dataframe tbody tr th:only-of-type {\n",
              "        vertical-align: middle;\n",
              "    }\n",
              "\n",
              "    .dataframe tbody tr th {\n",
              "        vertical-align: top;\n",
              "    }\n",
              "\n",
              "    .dataframe thead th {\n",
              "        text-align: right;\n",
              "    }\n",
              "</style>\n",
              "<table border=\"1\" class=\"dataframe\">\n",
              "  <thead>\n",
              "    <tr style=\"text-align: right;\">\n",
              "      <th></th>\n",
              "      <th>phase</th>\n",
              "      <th>table_id</th>\n",
              "      <th>question</th>\n",
              "      <th>sql</th>\n",
              "      <th>tokenized_query</th>\n",
              "      <th>query</th>\n",
              "      <th>tokenized_question</th>\n",
              "    </tr>\n",
              "  </thead>\n",
              "  <tbody>\n",
              "    <tr>\n",
              "      <th>0</th>\n",
              "      <td>1</td>\n",
              "      <td>1-1000181-1</td>\n",
              "      <td>Tell me what the notes are for South Australia</td>\n",
              "      <td>{'sel': 5, 'conds': [[3, 0, 'SOUTH AUSTRALIA']...</td>\n",
              "      <td>[SELECT, notes, FROM, table_, WHERE, current, ...</td>\n",
              "      <td>SELECT notes FROM table_ WHERE current slogan ...</td>\n",
              "      <td>[tell, me, what, the, notes, are, for, south, ...</td>\n",
              "    </tr>\n",
              "    <tr>\n",
              "      <th>1</th>\n",
              "      <td>1</td>\n",
              "      <td>1-1000181-1</td>\n",
              "      <td>What is the current series where the new serie...</td>\n",
              "      <td>{'sel': 4, 'conds': [[5, 0, 'New series began ...</td>\n",
              "      <td>[SELECT, current, series, FROM, table_, WHERE,...</td>\n",
              "      <td>SELECT current series FROM table_ WHERE notes ...</td>\n",
              "      <td>[what, is, the, current, series, where, the, n...</td>\n",
              "    </tr>\n",
              "    <tr>\n",
              "      <th>2</th>\n",
              "      <td>1</td>\n",
              "      <td>1-1000181-1</td>\n",
              "      <td>What is the format for South Australia?</td>\n",
              "      <td>{'sel': 2, 'conds': [[0, 0, 'South Australia']...</td>\n",
              "      <td>[SELECT, format, FROM, table_, WHERE, state/te...</td>\n",
              "      <td>SELECT format FROM table_ WHERE state/territor...</td>\n",
              "      <td>[what, is, the, format, for, south, australia, ?]</td>\n",
              "    </tr>\n",
              "    <tr>\n",
              "      <th>3</th>\n",
              "      <td>1</td>\n",
              "      <td>1-1000181-1</td>\n",
              "      <td>Name the background colour for the Australian ...</td>\n",
              "      <td>{'sel': 1, 'conds': [[0, 0, 'Australian Capita...</td>\n",
              "      <td>[SELECT, text/background, colour, FROM, table_...</td>\n",
              "      <td>SELECT text/background colour FROM table_ WHER...</td>\n",
              "      <td>[name, the, background, colour, for, the, aust...</td>\n",
              "    </tr>\n",
              "    <tr>\n",
              "      <th>4</th>\n",
              "      <td>1</td>\n",
              "      <td>1-10007452-3</td>\n",
              "      <td>how many times is the fuel propulsion is cng?</td>\n",
              "      <td>{'sel': 3, 'conds': [[5, 0, 'CNG']], 'agg': 3}</td>\n",
              "      <td>[SELECT, COUNT, (, fleet, series, (, quantity,...</td>\n",
              "      <td>SELECT COUNT ( fleet series ( quantity ) ) FRO...</td>\n",
              "      <td>[how, many, times, is, the, fuel, propulsion, ...</td>\n",
              "    </tr>\n",
              "  </tbody>\n",
              "</table>\n",
              "</div>"
            ],
            "text/plain": [
              "   phase  ...                                 tokenized_question\n",
              "0      1  ...  [tell, me, what, the, notes, are, for, south, ...\n",
              "1      1  ...  [what, is, the, current, series, where, the, n...\n",
              "2      1  ...  [what, is, the, format, for, south, australia, ?]\n",
              "3      1  ...  [name, the, background, colour, for, the, aust...\n",
              "4      1  ...  [how, many, times, is, the, fuel, propulsion, ...\n",
              "\n",
              "[5 rows x 7 columns]"
            ]
          },
          "metadata": {
            "tags": []
          },
          "execution_count": 19
        }
      ]
    },
    {
      "cell_type": "markdown",
      "metadata": {
        "id": "yKh2i3RwbPC4"
      },
      "source": [
        "###**Exploratory Data Analysis**"
      ]
    },
    {
      "cell_type": "code",
      "metadata": {
        "colab": {
          "base_uri": "https://localhost:8080/"
        },
        "id": "95RJLl_pSm3U",
        "outputId": "e6fccb23-8abf-40a8-d9e3-4a45558df892"
      },
      "source": [
        "train_df[\"question_len\"]= train_df[\"question\"].apply(len)\n",
        "train_df[\"query_len\"]= train_df[\"query\"].apply(len)\n",
        "\n",
        "\n",
        "train_df[\"question_wrd_len\"]= train_df[\"question\"].apply(lambda x: len(x.split( )))\n",
        "train_df[\"query_wrd_len\"]= train_df[\"query\"].apply(lambda x: len(x.split( )))\n",
        "\n",
        "print(\"train_df[question_len].min() : \",train_df[\"question_len\"].min())\n",
        "print(\"train_df[query_len].min() : \",train_df[\"query_len\"].min())\n",
        "\n",
        "print(\"train_df[question_wrd_len].min() : \",train_df[\"question_wrd_len\"].min())\n",
        "print(\"train_df[query_wrd_len].min() : \",train_df[\"query_wrd_len\"].min())"
      ],
      "execution_count": 20,
      "outputs": [
        {
          "output_type": "stream",
          "text": [
            "train_df[question_len].min() :  12\n",
            "train_df[query_len].min() :  29\n",
            "train_df[question_wrd_len].min() :  3\n",
            "train_df[query_wrd_len].min() :  5\n"
          ],
          "name": "stdout"
        }
      ]
    },
    {
      "cell_type": "code",
      "metadata": {
        "id": "nrUqyWo0QpAr"
      },
      "source": [
        "sns.set_style(\"darkgrid\")"
      ],
      "execution_count": 21,
      "outputs": []
    },
    {
      "cell_type": "code",
      "metadata": {
        "colab": {
          "base_uri": "https://localhost:8080/",
          "height": 615
        },
        "id": "XSUPFswdQpn_",
        "outputId": "2f719389-8c71-4282-f6d3-dec070476843"
      },
      "source": [
        "fig, axes = plt.subplots(nrows=1, ncols=2)\n",
        "fig.set_figwidth(20)\n",
        "fig.set_figheight(8)\n",
        "fig.suptitle(\"Distribution of Questions and queries Length\",fontsize=18)\n",
        "sns.color_palette(\"crest\")\n",
        "for i, column in enumerate([\"question_len\",\"query_len\"]):\n",
        "    axes[i].set_xlabel(column, fontsize = 16)\n",
        "    axes[i].set_ylabel(ylabel=\"Count\",fontsize=16)\n",
        "    \n",
        "    sns.distplot(train_df[column], kde=False, ax=axes[i], color=\"r\", bins=50)"
      ],
      "execution_count": 22,
      "outputs": [
        {
          "output_type": "stream",
          "text": [
            "/usr/local/lib/python3.7/dist-packages/seaborn/distributions.py:2557: FutureWarning: `distplot` is a deprecated function and will be removed in a future version. Please adapt your code to use either `displot` (a figure-level function with similar flexibility) or `histplot` (an axes-level function for histograms).\n",
            "  warnings.warn(msg, FutureWarning)\n"
          ],
          "name": "stderr"
        },
        {
          "output_type": "display_data",
          "data": {
            "image/png": "[encoded data removed]",
            "text/plain": [
              "<Figure size 1440x576 with 2 Axes>"
            ]
          },
          "metadata": {
            "tags": []
          }
        }
      ]
    },
    {
      "cell_type": "code",
      "metadata": {
        "colab": {
          "base_uri": "https://localhost:8080/",
          "height": 615
        },
        "id": "IYi3m82wVjTA",
        "outputId": "20bcf56b-aa61-4674-9558-a13c9faaf89c"
      },
      "source": [
        "\n",
        "fig, axes = plt.subplots(nrows=1, ncols=2)\n",
        "fig.set_figwidth(20)\n",
        "fig.set_figheight(8)\n",
        "fig.suptitle(\"Distribution of Number of Words in Questions and queries\",fontsize=18)\n",
        "\n",
        "for i, column in enumerate([\"question_wrd_len\",\"query_wrd_len\"]):\n",
        "    axes[i].set_xlabel(column, fontsize = 16)\n",
        "    axes[i].set_ylabel(ylabel=\"Count\",fontsize=16)\n",
        "    \n",
        "    sns.distplot(train_df[column], kde=False, ax=axes[i], color=\"purple\", bins=50)"
      ],
      "execution_count": 23,
      "outputs": [
        {
          "output_type": "stream",
          "text": [
            "/usr/local/lib/python3.7/dist-packages/seaborn/distributions.py:2557: FutureWarning: `distplot` is a deprecated function and will be removed in a future version. Please adapt your code to use either `displot` (a figure-level function with similar flexibility) or `histplot` (an axes-level function for histograms).\n",
            "  warnings.warn(msg, FutureWarning)\n"
          ],
          "name": "stderr"
        },
        {
          "output_type": "display_data",
          "data": {
            "image/png": "[encoded data removed]",
            "text/plain": [
              "<Figure size 1440x576 with 2 Axes>"
            ]
          },
          "metadata": {
            "tags": []
          }
        }
      ]
    }
  ]
}
